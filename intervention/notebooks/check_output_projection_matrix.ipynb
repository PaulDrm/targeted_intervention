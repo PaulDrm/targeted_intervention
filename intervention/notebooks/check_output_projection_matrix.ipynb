{
 "cells": [
  {
   "cell_type": "code",
   "execution_count": null,
   "metadata": {},
   "outputs": [],
   "source": []
  },
  {
   "cell_type": "code",
   "execution_count": null,
   "metadata": {},
   "outputs": [],
   "source": [
    "## load model\n",
    "\n",
    "## check layer.oproj\n",
    "\n",
    "## split into heads\n",
    "\n",
    "## multiply for 13 0 and 15 5 15 6 --> Inverse PCA\n",
    "\n"
   ]
  }
 ],
 "metadata": {
  "language_info": {
   "name": "python"
  }
 },
 "nbformat": 4,
 "nbformat_minor": 2
}
