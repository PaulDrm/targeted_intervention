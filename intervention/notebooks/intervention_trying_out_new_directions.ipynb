{
 "cells": [
  {
   "cell_type": "code",
   "execution_count": 77,
   "metadata": {},
   "outputs": [],
   "source": [
    "from pandas import json_normalize\n",
    "import pandas as pd\n",
    "import json"
   ]
  },
  {
   "cell_type": "code",
   "execution_count": 78,
   "metadata": {},
   "outputs": [],
   "source": [
    "from sklearn.metrics import accuracy_score, f1_score, precision_score, recall_score\n",
    "from sklearn.linear_model import LogisticRegression\n",
    "from tqdm.notebook import tqdm\n",
    "\n",
    "def flattened_idx_to_layer_head(flattened_idx, num_heads):\n",
    "    return flattened_idx // num_heads, flattened_idx % num_heads\n",
    "\n",
    "def layer_head_to_flattened_idx(layer, head, num_heads):\n",
    "    return layer * num_heads + head\n",
    "\n",
    "def get_top_heads(train_idxs, val_idxs, separated_activations, separated_labels, num_layers, num_heads, seed, num_to_intervene, use_random_dir=False, specific_heads = None):\n",
    "\n",
    "    probes, all_head_accs_np, train_accs = train_probes(seed, train_idxs, val_idxs, separated_activations, separated_labels, num_layers=num_layers, num_heads=num_heads)\n",
    "    all_head_accs_np = all_head_accs_np.reshape(num_layers, num_heads)\n",
    "\n",
    "    # if specific_heads is not None:\n",
    "    #     top_heads = [layer_head_to_flattened_idx(head[0], head[1], num_heads) for head in specific_heads]\n",
    "        \n",
    "    if specific_heads is not None:\n",
    "        #top_heads = [layer_head_to_flattened_idx(head[0], head[1], num_heads) for head in specific_heads]\n",
    "        top_heads = specific_heads\n",
    "\n",
    "    else:\n",
    "        top_heads = []\n",
    "        top_accs = np.argsort(all_head_accs_np.reshape(num_heads*num_layers))[::-1][:num_to_intervene]\n",
    "        print(top_accs)\n",
    "        #print(top_accs[0:5])\n",
    "        top_heads = [flattened_idx_to_layer_head(idx, num_heads) for idx in top_accs]\n",
    "    if use_random_dir: \n",
    "        # overwrite top heads with random heads, no replacement\n",
    "        random_idxs = np.random.choice(num_heads*num_layers, num_heads*num_layers, replace=False)\n",
    "        top_heads = [flattened_idx_to_layer_head(idx, num_heads) for idx in random_idxs[:num_to_intervene]]\n",
    "\n",
    "    return top_heads, probes\n",
    "\n",
    "def get_interventions_dict(top_heads, probes, tuning_activations, num_heads, use_center_of_mass, use_random_dir, com_directions): \n",
    "\n",
    "    interventions = {}\n",
    "    for layer, head in top_heads: \n",
    "        interventions[f\"model.layers.{layer}.self_attn.head_out\"] = []\n",
    "    for layer, head in top_heads:\n",
    "        if use_center_of_mass: \n",
    "            direction = com_directions[layer_head_to_flattened_idx(layer, head, num_heads)]\n",
    "        elif use_random_dir: \n",
    "            direction = np.random.normal(size=(128,))\n",
    "        else: \n",
    "            direction = probes[layer_head_to_flattened_idx(layer, head, num_heads)].coef_\n",
    "        direction = direction / np.linalg.norm(direction)\n",
    "        activations = tuning_activations[:,layer,head,:] # batch x 128\n",
    "        proj_vals = activations @ direction.T\n",
    "        proj_val_std = np.std(proj_vals)\n",
    "        interventions[f\"model.layers.{layer}.self_attn.head_out\"].append((head, direction.squeeze(), proj_val_std))\n",
    "        \n",
    "    for layer, head in top_heads: \n",
    "        interventions[f\"model.layers.{layer}.self_attn.head_out\"] = sorted(interventions[f\"model.layers.{layer}.self_attn.head_out\"], key = lambda x: x[0])\n",
    "\n",
    "    return interventions\n",
    "\n",
    "def get_pertubations_dict(top_heads, tuning_activations, num_heads):\n",
    "\n",
    "    interventions = {}\n",
    "    for layer, head in top_heads:\n",
    "        interventions[f\"model.layers.{layer}.self_attn.head_out\"] = []\n",
    "    \n",
    "    for layer, head in top_heads:\n",
    "\n",
    "        head_actis = tuning_activations[:,layer,head,:] # batch x 128\n",
    "        actis_std = np.std(head_actis, axis = 0)\n",
    "        interventions[f\"model.layers.{layer}.self_attn.head_out\"].append((head, actis_std))\n",
    "    \n",
    "    for layer, head in top_heads:\n",
    "        interventions[f\"model.layers.{layer}.self_attn.head_out\"] = sorted(interventions[f\"model.layers.{layer}.self_attn.head_out\"], key = lambda x: x[0])\n",
    "    \n",
    "    return interventions\n"
   ]
  },
  {
   "cell_type": "code",
   "execution_count": 79,
   "metadata": {},
   "outputs": [],
   "source": [
    "df = pd.read_json(\"requirements_data/dataframe_open_chat_cot_moon_06022024_attentions_gt.json\")\n",
    "\n",
    "df.reset_index(drop=True, inplace=True)\n",
    "correct = [0 if value == \"yes\" else 1 for value in df.predict.values]\n",
    "df.correct = correct"
   ]
  },
  {
   "cell_type": "code",
   "execution_count": 80,
   "metadata": {},
   "outputs": [],
   "source": [
    "import numpy as np \n",
    "\n",
    "index_dic = {}\n",
    "separated_activations = []\n",
    "separated_labels = []\n",
    "reqs_order = []\n",
    "for req_id in df['req_id'].unique():\n",
    "\n",
    "    req_df = df[df['req_id'] == req_id].index\n",
    "\n",
    "    #req_ids.append(req_df)\n",
    "    index_dic[req_id] = list(req_df)\n",
    "    \n",
    "    temp_activations = df[df['req_id'] == req_id].attentions\n",
    "    activations = np.array([list(sample.values()) for sample in temp_activations.values])#.shape\n",
    "    batch_length = len(temp_activations)\n",
    "    dim = 128\n",
    "    activations = np.reshape(activations, (batch_length, 32, 32, dim))\n",
    "\n",
    "    temp_labels = [1 if label==True else 0 for label in df[df['req_id'] == req_id]['correct'].values]\n",
    "    separated_labels.append(temp_labels)\n",
    "    separated_activations.append(activations)\n",
    "    reqs_order.append(req_id)\n",
    "\n",
    "number_of_examples = np.arange(len(reqs_order))\n",
    "\n",
    "# get two folds using numpy\n",
    "num_fold = 1\n",
    "fold_idxs = np.array_split(number_of_examples, num_fold)"
   ]
  },
  {
   "cell_type": "code",
   "execution_count": 115,
   "metadata": {},
   "outputs": [],
   "source": [
    "from sklearn.linear_model import LogisticRegression\n",
    "\n",
    "from sklearn.discriminant_analysis import LinearDiscriminantAnalysis\n",
    "from sklearn.decomposition import PCA\n",
    "from sklearn.svm import SVC\n",
    "def train_probes(seed, train_set_idxs, val_set_idxs, separated_head_wise_activations, separated_labels, num_layers, num_heads):\n",
    "    \n",
    "    all_head_accs = []\n",
    "    probes = []\n",
    "    train_accs = []\n",
    "    all_X_train = np.concatenate([separated_head_wise_activations[i] for i in train_set_idxs], axis = 0)\n",
    "    print(all_X_train.shape)\n",
    "    all_X_val = np.concatenate([separated_head_wise_activations[i] for i in val_set_idxs], axis = 0)\n",
    "    y_train = np.concatenate([separated_labels[i] for i in train_set_idxs], axis = 0)\n",
    "    print(y_train.shape)\n",
    "    y_val = np.concatenate([separated_labels[i] for i in val_set_idxs], axis = 0)\n",
    "\n",
    "    for layer in tqdm(range(num_layers)): \n",
    "        for head in range(num_heads): \n",
    "            \n",
    "            X_train = all_X_train[:,layer,head,:]\n",
    "            \n",
    "            dim_reduction = PCA(n_components = 2).fit(X_train)\n",
    "            X_train_transform = dim_reduction.transform(X_train)\n",
    "            X_val = all_X_val[:,layer,head,:]\n",
    "            X_val_transform = dim_reduction.transform(X_val)\n",
    "            #X_train = X_train_transform\n",
    "            #X_val = X_val_transform\n",
    "            #clf = LogisticRegression(random_state=seed, max_iter=10000, penalty='l1', solver='liblinear', C=100000).fit(X_train, y_train)\n",
    "            #clf = LogisticRegression(random_state=seed, max_iter=10000,solver='liblinear').fit(X_train, y_train) #, penalty='l1', , C=100000\n",
    "            #clf = LogisticRegression(random_state=seed, max_iter=10000).fit(X_train, y_train)\n",
    "\n",
    "            # clf = LogisticRegression(random_state=seed, C=10, penalty='elasticnet', l1_ratio= 0.5, max_iter=10000, solver='saga').fit(X_train, y_train) #, penalty='l1', , C=100000\n",
    "            clf = LogisticRegression(random_state=seed, C=1000, penalty='elasticnet', l1_ratio= 0.5, max_iter=10000, solver='saga').fit(X_train, y_train) #, penalty='l1', , C=100000\n",
    "            \n",
    "            \n",
    "            #clf = SVC().fit(X_train, y_train)\n",
    "            # clf = LinearDiscriminantAnalysis().fit(X_train, y_train)\n",
    "            #if clf.converged_:\n",
    "             #   print(\"The model converged.\")\n",
    "            #else:\n",
    "             #   print(\"The model did not converge. You might need to increase max_iter or change the solver.\")\n",
    "\n",
    "            y_pred = clf.predict(X_train)\n",
    "            train_accs.append(accuracy_score(y_train, y_pred))\n",
    "            y_val_pred = clf.predict(X_val)\n",
    "            all_head_accs.append(accuracy_score(y_val, y_val_pred))\n",
    "\n",
    "            probes.append(clf)\n",
    "\n",
    "    all_head_accs_np = np.array(all_head_accs)\n",
    "    train_accs_np = np.array(train_accs)\n",
    "    return probes, all_head_accs_np, train_accs_np\n"
   ]
  },
  {
   "cell_type": "code",
   "execution_count": 116,
   "metadata": {},
   "outputs": [
    {
     "name": "stdout",
     "output_type": "stream",
     "text": [
      "[array([ 0,  1,  2,  3,  4,  5,  6,  7,  8,  9, 10, 11, 12, 13, 14, 15, 16,\n",
      "       17, 18, 19, 20, 21, 22, 23, 24, 25, 26, 27, 28, 29, 30, 31, 32, 33,\n",
      "       34, 35, 36, 37, 38, 39])]\n",
      "[ 0  1  2  3  4  5  6  7  8  9 10 11 12 13 14 15 16 17 18 19 20 21 22 23\n",
      " 24 25 26 27 28 29 30 31 32 33 34 35 36 37 38 39]\n",
      "Train indexes: [17 34  5 31 38 25  4  1 15 18 24  2 39 22 29 32 28 10 19 16]\n",
      "Validation indexes:  [ 0  3  6  7  8  9 11 12 13 14 20 21 23 26 27 30 33 35 36 37]\n",
      "(116, 32, 32, 128)\n",
      "(116,)\n"
     ]
    },
    {
     "data": {
      "application/vnd.jupyter.widget-view+json": {
       "model_id": "7c08e50e98c349cd8cfd6341409e7ace",
       "version_major": 2,
       "version_minor": 0
      },
      "text/plain": [
       "  0%|          | 0/32 [00:00<?, ?it/s]"
      ]
     },
     "metadata": {},
     "output_type": "display_data"
    }
   ],
   "source": [
    "from dataclasses import dataclass\n",
    "import numpy as np\n",
    "@dataclass\n",
    "class Args:\n",
    "    #model_name: str\n",
    "    #dataset_name: str\n",
    "    #activations_dataset: str\n",
    "    val_ratio: float\n",
    "    use_center_of_mass: bool\n",
    "    use_random_dir: bool\n",
    "    seed: int\n",
    "    num_heads: int\n",
    "\n",
    "args = Args(val_ratio=0.5, use_center_of_mass=False, use_random_dir=False, seed=42, num_heads=12)\n",
    "\n",
    "num_layers =32\n",
    "num_heads = 32\n",
    "\n",
    "seed = 42\n",
    "\n",
    "fold_results = []\n",
    "fold_probes = []\n",
    "for i in range(len(fold_idxs)):\n",
    "\n",
    "    if num_fold == 1: \n",
    "        train_idxs = np.arange(len(reqs_order))\n",
    "    else:\n",
    "        train_idxs = np.concatenate([fold_idxs[j] for j in range(num_fold) if j != i])\n",
    "\n",
    "    val_ratio = args.val_ratio\n",
    "    seed = 42  # You can choose your own seed value\n",
    "    rng = np.random.default_rng(seed)\n",
    "    size = int(len(train_idxs)*(1-val_ratio))\n",
    "    #print(size)\n",
    "    train_set_idxs = rng.choice(train_idxs, size=size, replace=False)\n",
    "    val_set_idxs = np.array([x for x in train_idxs if x not in train_set_idxs])\n",
    "\n",
    "    if len(fold_idxs) == 1:\n",
    "        test_idxs = val_set_idxs\n",
    "    else:\n",
    "        test_idxs = fold_idxs[i]\n",
    "\n",
    "    print(fold_idxs)\n",
    "    print(train_idxs)\n",
    "    print(\"Train indexes:\" , train_set_idxs)\n",
    "    print(\"Validation indexes: \", val_set_idxs)\n",
    "    #print(test_idxs)\n",
    "\n",
    "    train_index_list = np.concatenate([list(index_dic.values())[i] for i in train_set_idxs], axis = 0)\n",
    "    train_set = df.loc[train_index_list]\n",
    "\n",
    "    rng = np.random.default_rng(seed)\n",
    "    val_idxs = val_set_idxs\n",
    "    probes, all_head_accs_np, train_accs = train_probes(seed, train_set_idxs, val_idxs, separated_activations, separated_labels, num_layers=num_layers, num_heads=num_heads)\n",
    "    fold_probes.append(probes)\n",
    "    fold_results.append(all_head_accs_np)"
   ]
  },
  {
   "cell_type": "code",
   "execution_count": 22,
   "metadata": {},
   "outputs": [
    {
     "name": "stdout",
     "output_type": "stream",
     "text": [
      "(116, 32, 32, 128)\n",
      "(116,)\n"
     ]
    },
    {
     "data": {
      "application/vnd.jupyter.widget-view+json": {
       "model_id": "da6e0e05205c4f1b992eb49917248973",
       "version_major": 2,
       "version_minor": 0
      },
      "text/plain": [
       "  0%|          | 0/32 [00:00<?, ?it/s]"
      ]
     },
     "metadata": {},
     "output_type": "display_data"
    },
    {
     "name": "stdout",
     "output_type": "stream",
     "text": [
      "Heads intervened:  [(13, 0)]\n"
     ]
    }
   ],
   "source": [
    "top_heads, probes = get_top_heads(train_set_idxs, val_set_idxs, separated_activations\n",
    "                                  ,separated_labels\n",
    "                                  ,num_layers, num_heads\n",
    "                                  ,args.seed, args.num_heads, args.use_random_dir\n",
    "                                  ,specific_heads= [(13,0)])\n",
    "        \n",
    "print(\"Heads intervened: \", sorted(top_heads))"
   ]
  },
  {
   "cell_type": "code",
   "execution_count": 117,
   "metadata": {},
   "outputs": [],
   "source": [
    "def calculate_interventions(top_heads, tuning_activations, probes):\n",
    "    tuning_activations = separated_activations\n",
    "    tuning_activations = np.concatenate(tuning_activations, axis = 0)\n",
    "\n",
    "    interventions = {}\n",
    "    for layer, head in top_heads: \n",
    "        interventions[f\"model.layers.{layer}.self_attn.head_out\"] = []\n",
    "    for layer, head in top_heads:\n",
    "        print(\"Head: \", layer, head)\n",
    "        direction = probes[layer_head_to_flattened_idx(layer, head, num_heads)].coef_\n",
    "        \n",
    "        ## normalize direction vector to unit vector (magnitude equal to 1)\n",
    "        direction = direction / np.linalg.norm(direction)\n",
    "        \n",
    "        activations = tuning_activations[:,layer,head,:] # batch x 128\n",
    "        print(\"Standard deviation of activations: \", np.std(activations))\n",
    "        #print(\"Mean of activations: \", np.mean(activations))\n",
    "        #print(\"Top 25% quantile of activations: \", np.quantile(activations, 0.25))\n",
    "        proj_vals = activations @ direction.T\n",
    "        proj_val_std = np.std(proj_vals)\n",
    "        #print(\"Mean of projected activations: \", np.mean(proj_vals))\n",
    "        print(\"Standard deviation of projected activations: \", proj_val_std)\n",
    "        interventions[f\"model.layers.{layer}.self_attn.head_out\"].append((head, direction.squeeze(), proj_val_std))\n",
    "        \n",
    "    for layer, head in top_heads: \n",
    "        interventions[f\"model.layers.{layer}.self_attn.head_out\"] = sorted(interventions[f\"model.layers.{layer}.self_attn.head_out\"], key = lambda x: x[0])\n"
   ]
  },
  {
   "cell_type": "code",
   "execution_count": 118,
   "metadata": {},
   "outputs": [
    {
     "name": "stdout",
     "output_type": "stream",
     "text": [
      "Head:  0 10\n",
      "Standard deviation of activations:  0.01058467568804536\n",
      "Standard deviation of projected activations:  0.028985946758628332\n",
      "Head:  0 26\n",
      "Standard deviation of activations:  0.013938439811420315\n",
      "Standard deviation of projected activations:  0.01847668371318356\n",
      "Head:  0 29\n",
      "Standard deviation of activations:  0.028452099179924174\n",
      "Standard deviation of projected activations:  0.043212244105866625\n",
      "Head:  0 30\n",
      "Standard deviation of activations:  0.010196154980468356\n",
      "Standard deviation of projected activations:  0.013789622970473267\n",
      "Head:  0 31\n",
      "Standard deviation of activations:  0.01892548673836041\n",
      "Standard deviation of projected activations:  0.04895402788901912\n"
     ]
    }
   ],
   "source": [
    "top_heads = [(0,10), (0,26), (0,29), (0,30), (0,31)]#, (15,6), (15,7), (11,17), (31,20), (31,14), (31,7)] #(3,4), (17, 11), (9,10) ,  (17,22) , (16,8),\n",
    "calculate_interventions(top_heads, tuning_activations, probes)"
   ]
  },
  {
   "cell_type": "code",
   "execution_count": 63,
   "metadata": {},
   "outputs": [],
   "source": [
    "#activations = tuning_activations[:,layer,head,:]#.squeeze()\n",
    "#activations"
   ]
  },
  {
   "cell_type": "code",
   "execution_count": 62,
   "metadata": {},
   "outputs": [
    {
     "data": {
      "text/plain": [
       "(231, 128)"
      ]
     },
     "execution_count": 62,
     "metadata": {},
     "output_type": "execute_result"
    }
   ],
   "source": [
    "np.squeeze(activations[:]).shape"
   ]
  },
  {
   "cell_type": "code",
   "execution_count": 104,
   "metadata": {},
   "outputs": [
    {
     "name": "stdout",
     "output_type": "stream",
     "text": [
      "0.01574678062536438\n"
     ]
    }
   ],
   "source": [
    "tuning_activations = separated_activations\n",
    "tuning_activations = np.concatenate(tuning_activations, axis = 0)\n",
    "\n",
    "for layer in range(num_layers): \n",
    "    layer_wise_proj_vals_std = []\n",
    "    for head in range(num_heads): \n",
    "\n",
    "        direction = probes[layer_head_to_flattened_idx(layer, head, num_heads)].coef_\n",
    "        ## normalize direction vector to unit vector (magnitude equal to 1)\n",
    "        direction = direction / np.linalg.norm(direction)\n",
    "        activations = tuning_activations[:,layer,head,:] # batch x 128\n",
    "        #print(\"Standard deviation of activations: \", np.std(activations))\n",
    "        #print(\"Mean of activations: \", np.mean(activations))\n",
    "        #print(\"Top 25% quantile of activations: \", np.quantile(activations, 0.25))\n",
    "        proj_vals = activations @ direction.T\n",
    "        proj_val_std = np.std(proj_vals)\n",
    "        layer_wise_proj_vals_std.append(proj_val_std)\n",
    "        #if head == 0:\n",
    "        #    break\n",
    "    \n",
    "    print(np.array(layer_wise_proj_vals_std).mean())\n",
    "    if layer == 0: \n",
    "        break\n",
    "\n",
    "        "
   ]
  },
  {
   "cell_type": "code",
   "execution_count": null,
   "metadata": {},
   "outputs": [],
   "source": [
    "layer = \n",
    "\n",
    "tuning_activations = separated_activations\n",
    "tuning_activations = np.concatenate(tuning_activations, axis = 0)\n",
    "\n",
    "direction = probes[layer_head_to_flattened_idx(layer, head, num_heads)].coef_\n",
    "## normalize direction vector to unit vector (magnitude equal to 1)\n",
    "direction = direction / np.linalg.norm(direction)\n",
    "activations = tuning_activations[:,layer,head,:] # batch x 128\n",
    "#print(\"Standard deviation of activations: \", np.std(activations))\n",
    "#print(\"Mean of activations: \", np.mean(activations))\n",
    "#print(\"Top 25% quantile of activations: \", np.quantile(activations, 0.25))\n",
    "proj_vals = activations @ direction.T\n",
    "proj_val_std = np.std(proj_vals)\n",
    "layer_wise_proj_vals_std.append(proj_val_std)\n",
    "\n"
   ]
  },
  {
   "cell_type": "code",
   "execution_count": 105,
   "metadata": {},
   "outputs": [
    {
     "data": {
      "text/plain": [
       "[0.0038682095251036754,\n",
       " 0.005168662077184656,\n",
       " 0.005537782856637805,\n",
       " 0.005836784680470983,\n",
       " 0.0016907519316366618,\n",
       " 0.0014966933159638407,\n",
       " 0.0018901197085068502,\n",
       " 0.001735472914239788,\n",
       " 0.005111018046141044,\n",
       " 0.005059150215719437,\n",
       " 0.06028440845628022,\n",
       " 0.005052324761457373,\n",
       " 0.0027360222119606186,\n",
       " 0.0029593232282342915,\n",
       " 0.003838662223187874,\n",
       " 0.002956890657432043,\n",
       " 0.01766405464097904,\n",
       " 0.002108378068446699,\n",
       " 0.0018994328356988584,\n",
       " 0.002049289908994907,\n",
       " 0.00942227204635391,\n",
       " 0.01514249751039714,\n",
       " 0.006901150865324089,\n",
       " 0.010745450444103395,\n",
       " 0.01010704709908854,\n",
       " 0.0025123684148079225,\n",
       " 0.057339493681748774,\n",
       " 0.006438956928853606,\n",
       " 0.01599314270195474,\n",
       " 0.1126132738598384,\n",
       " 0.0445371725885617,\n",
       " 0.07320072160635124]"
      ]
     },
     "execution_count": 105,
     "metadata": {},
     "output_type": "execute_result"
    }
   ],
   "source": [
    "layer_wise_proj_vals_std"
   ]
  },
  {
   "cell_type": "code",
   "execution_count": 108,
   "metadata": {},
   "outputs": [
    {
     "data": {
      "text/plain": [
       "(231, 128)"
      ]
     },
     "execution_count": 108,
     "metadata": {},
     "output_type": "execute_result"
    }
   ],
   "source": [
    "activations.shape"
   ]
  },
  {
   "cell_type": "code",
   "execution_count": 109,
   "metadata": {},
   "outputs": [
    {
     "data": {
      "image/png": "[encoded data removed]",
      "text/plain": [
       "<Figure size 1200x1200 with 6 Axes>"
      ]
     },
     "metadata": {},
     "output_type": "display_data"
    }
   ],
   "source": [
    "import matplotlib.pyplot as plt\n",
    "top_heads = [(0,10), (0,26), (0,29), (0,30), (0,31)]\n",
    "n_rows = len(top_heads) // 2 + 1\n",
    "# Create a figure and a set of subplots\n",
    "fig, axs = plt.subplots(nrows=n_rows, ncols=2, figsize=(12, 12))\n",
    "\n",
    "for id, head in enumerate(top_heads): \n",
    "    layer = head[0]\n",
    "    h = head[1]\n",
    "    activations = tuning_activations[:,layer,h,:].squeeze() # batch x 128\n",
    "    \n",
    "    ax = fig.axes[id]\n",
    "    # Plot a histogram on the first subplot\n",
    "    ax.hist(activations, bins=30, alpha=0.5)#, color='blue', edgecolor='black')\n",
    "    ax.set_title(str(head))\n",
    "    ax.set_xlabel('Value')\n",
    "    ax.set_ylabel('Frequency')\n"
   ]
  },
  {
   "cell_type": "code",
   "execution_count": 113,
   "metadata": {},
   "outputs": [
    {
     "data": {
      "image/png": "[encoded data removed]",
      "text/plain": [
       "<Figure size 1200x1200 with 6 Axes>"
      ]
     },
     "metadata": {},
     "output_type": "display_data"
    }
   ],
   "source": [
    "import matplotlib.pyplot as plt\n",
    "\n",
    "n_rows = len(top_heads) // 2 + 1\n",
    "# Create a figure and a set of subplots\n",
    "fig, axs = plt.subplots(nrows=n_rows, ncols=2, figsize=(12, 12))\n",
    "top_heads = [(13,0), (13,10), (13,11), (14,2), (14,21)]#, (15,6), (15,7), (11,17), (31,20), (31,14), (31,7)] #(3,4), (17, 11), (9,10) ,  (17,22) , (16,8),\n",
    "\n",
    "for id, head in enumerate(top_heads): \n",
    "    layer = head[0]\n",
    "    h = head[1]\n",
    "    activations = tuning_activations[:,layer,h,:].squeeze() # batch x 128\n",
    "    ax = fig.axes[id]\n",
    "    # Plot a histogram on the first subplot\n",
    "    ax.hist(activations, bins=30, alpha=0.5)#, color='blue', edgecolor='black')\n",
    "    ax.set_title(str(head))\n",
    "    ax.set_xlabel('Value')\n",
    "    ax.set_ylabel('Frequency')\n"
   ]
  },
  {
   "cell_type": "code",
   "execution_count": 110,
   "metadata": {},
   "outputs": [
    {
     "name": "stdout",
     "output_type": "stream",
     "text": [
      "Head:  0 10\n",
      "Standard deviation of activations:  0.01058467568804536\n",
      "Standard deviation of projected activations:  0.06028440845628022\n",
      "Head:  0 26\n",
      "Standard deviation of activations:  0.013938439811420315\n",
      "Standard deviation of projected activations:  0.057339493681748774\n",
      "Head:  0 29\n",
      "Standard deviation of activations:  0.028452099179924174\n",
      "Standard deviation of projected activations:  0.1126132738598384\n",
      "Head:  0 30\n",
      "Standard deviation of activations:  0.010196154980468356\n",
      "Standard deviation of projected activations:  0.0445371725885617\n",
      "Head:  0 31\n",
      "Standard deviation of activations:  0.01892548673836041\n",
      "Standard deviation of projected activations:  0.07320072160635124\n"
     ]
    }
   ],
   "source": [
    "top_heads = [(0,10), (0,26), (0,29), (0,30), (0,31)]#, (15,6), (15,7), (11,17), (31,20), (31,14), (31,7)] #(3,4), (17, 11), (9,10) ,  (17,22) , (16,8),\n",
    "calculate_interventions(top_heads, tuning_activations, probes)"
   ]
  },
  {
   "cell_type": "code",
   "execution_count": null,
   "metadata": {},
   "outputs": [],
   "source": [
    "tuning_activations"
   ]
  },
  {
   "cell_type": "code",
   "execution_count": 114,
   "metadata": {},
   "outputs": [
    {
     "name": "stdout",
     "output_type": "stream",
     "text": [
      "Head:  13 0\n",
      "Standard deviation of activations:  0.0642626168612456\n",
      "Standard deviation of projected activations:  0.13485416963311198\n",
      "Head:  13 10\n",
      "Standard deviation of activations:  0.10235311834307727\n",
      "Standard deviation of projected activations:  0.11625994655161685\n",
      "Head:  13 11\n",
      "Standard deviation of activations:  0.05717773361567137\n",
      "Standard deviation of projected activations:  0.12984422794260597\n",
      "Head:  14 2\n",
      "Standard deviation of activations:  0.07707906625122031\n",
      "Standard deviation of projected activations:  0.0912156446745788\n",
      "Head:  14 21\n",
      "Standard deviation of activations:  0.14563568588806897\n",
      "Standard deviation of projected activations:  0.13797411729311718\n"
     ]
    }
   ],
   "source": [
    "top_heads = [(13,0), (13,10), (13,11), (14,2), (14,21)]#, (15,6), (15,7), (11,17), (31,20), (31,14), (31,7)] #(3,4), (17, 11), (9,10) ,  (17,22) , (16,8),\n",
    "calculate_interventions(top_heads, tuning_activations, probes)"
   ]
  },
  {
   "cell_type": "code",
   "execution_count": 27,
   "metadata": {},
   "outputs": [
    {
     "data": {
      "text/plain": [
       "0.0642626168612456"
      ]
     },
     "execution_count": 27,
     "metadata": {},
     "output_type": "execute_result"
    }
   ],
   "source": [
    "np.std(activations)"
   ]
  },
  {
   "cell_type": "code",
   "execution_count": 28,
   "metadata": {},
   "outputs": [
    {
     "data": {
      "text/plain": [
       "0.108169954048495"
      ]
     },
     "execution_count": 28,
     "metadata": {},
     "output_type": "execute_result"
    }
   ],
   "source": [
    "proj_val_std"
   ]
  },
  {
   "cell_type": "code",
   "execution_count": 17,
   "metadata": {},
   "outputs": [
    {
     "name": "stderr",
     "output_type": "stream",
     "text": [
      "/tmp/ipykernel_291986/121174452.py:49: RuntimeWarning: invalid value encountered in divide\n",
      "  direction = direction / np.linalg.norm(direction)\n"
     ]
    }
   ],
   "source": [
    "tuning_activations = separated_activations\n",
    "tuning_activations = np.concatenate(tuning_activations, axis = 0)\n",
    "#tuning\n",
    "#print(tuning_activations.shape)\n",
    "#print(len(tuning_activations))\n",
    "#print(tuning_activations.shape)\n",
    "\n",
    "com_directions = None\n",
    "interventions = get_interventions_dict(top_heads, probes, tuning_activations, num_heads, args.use_center_of_mass, args.use_random_dir, com_directions)"
   ]
  },
  {
   "cell_type": "code",
   "execution_count": null,
   "metadata": {},
   "outputs": [],
   "source": []
  },
  {
   "cell_type": "code",
   "execution_count": 7,
   "metadata": {},
   "outputs": [
    {
     "name": "stdout",
     "output_type": "stream",
     "text": [
      "(116, 32, 32, 128)\n",
      "(116,)\n"
     ]
    },
    {
     "data": {
      "application/vnd.jupyter.widget-view+json": {
       "model_id": "71be999d30ab4f608b6fe2a517d7d4ba",
       "version_major": 2,
       "version_minor": 0
      },
      "text/plain": [
       "  0%|          | 0/32 [00:00<?, ?it/s]"
      ]
     },
     "metadata": {},
     "output_type": "display_data"
    },
    {
     "name": "stdout",
     "output_type": "stream",
     "text": [
      "Heads intervened:  [13]\n"
     ]
    },
    {
     "ename": "TypeError",
     "evalue": "cannot unpack non-iterable int object",
     "output_type": "error",
     "traceback": [
      "\u001b[0;31m---------------------------------------------------------------------------\u001b[0m",
      "\u001b[0;31mTypeError\u001b[0m                                 Traceback (most recent call last)",
      "Cell \u001b[0;32mIn[7], line 13\u001b[0m\n\u001b[1;32m      7\u001b[0m \u001b[38;5;66;03m#tuning\u001b[39;00m\n\u001b[1;32m      8\u001b[0m \u001b[38;5;66;03m#print(tuning_activations.shape)\u001b[39;00m\n\u001b[1;32m      9\u001b[0m \u001b[38;5;66;03m#print(len(tuning_activations))\u001b[39;00m\n\u001b[1;32m     10\u001b[0m \u001b[38;5;66;03m#print(tuning_activations.shape)\u001b[39;00m\n\u001b[1;32m     12\u001b[0m com_directions \u001b[38;5;241m=\u001b[39m \u001b[38;5;28;01mNone\u001b[39;00m\n\u001b[0;32m---> 13\u001b[0m interventions \u001b[38;5;241m=\u001b[39m \u001b[43mget_interventions_dict\u001b[49m\u001b[43m(\u001b[49m\u001b[43mtop_heads\u001b[49m\u001b[43m,\u001b[49m\u001b[43m \u001b[49m\u001b[43mprobes\u001b[49m\u001b[43m,\u001b[49m\u001b[43m \u001b[49m\u001b[43mtuning_activations\u001b[49m\u001b[43m,\u001b[49m\u001b[43m \u001b[49m\u001b[43mnum_heads\u001b[49m\u001b[43m,\u001b[49m\u001b[43m \u001b[49m\u001b[43margs\u001b[49m\u001b[38;5;241;43m.\u001b[39;49m\u001b[43muse_center_of_mass\u001b[49m\u001b[43m,\u001b[49m\u001b[43m \u001b[49m\u001b[43margs\u001b[49m\u001b[38;5;241;43m.\u001b[39;49m\u001b[43muse_random_dir\u001b[49m\u001b[43m,\u001b[49m\u001b[43m \u001b[49m\u001b[43mcom_directions\u001b[49m\u001b[43m)\u001b[49m\n",
      "Cell \u001b[0;32mIn[2], line 37\u001b[0m, in \u001b[0;36mget_interventions_dict\u001b[0;34m(top_heads, probes, tuning_activations, num_heads, use_center_of_mass, use_random_dir, com_directions)\u001b[0m\n\u001b[1;32m     34\u001b[0m \u001b[38;5;28;01mdef\u001b[39;00m \u001b[38;5;21mget_interventions_dict\u001b[39m(top_heads, probes, tuning_activations, num_heads, use_center_of_mass, use_random_dir, com_directions): \n\u001b[1;32m     36\u001b[0m     interventions \u001b[38;5;241m=\u001b[39m {}\n\u001b[0;32m---> 37\u001b[0m     \u001b[38;5;28;01mfor\u001b[39;00m layer, head \u001b[38;5;129;01min\u001b[39;00m top_heads: \n\u001b[1;32m     38\u001b[0m         interventions[\u001b[38;5;124mf\u001b[39m\u001b[38;5;124m\"\u001b[39m\u001b[38;5;124mmodel.layers.\u001b[39m\u001b[38;5;132;01m{\u001b[39;00mlayer\u001b[38;5;132;01m}\u001b[39;00m\u001b[38;5;124m.self_attn.head_out\u001b[39m\u001b[38;5;124m\"\u001b[39m] \u001b[38;5;241m=\u001b[39m []\n\u001b[1;32m     39\u001b[0m     \u001b[38;5;28;01mfor\u001b[39;00m layer, head \u001b[38;5;129;01min\u001b[39;00m top_heads:\n",
      "\u001b[0;31mTypeError\u001b[0m: cannot unpack non-iterable int object"
     ]
    }
   ],
   "source": [
    "top_heads, probes = get_top_heads(train_set_idxs, val_set_idxs, separated_activations\n",
    "                                  ,separated_labels\n",
    "                                  ,num_layers, num_heads\n",
    "                                  ,args.seed, args.num_heads, args.use_random_dir\n",
    "                                  ,specific_heads= [(0,13)])\n",
    "        \n",
    "print(\"Heads intervened: \", sorted(top_heads))\n",
    "\n",
    "tuning_activations = separated_activations\n",
    "tuning_activations = np.concatenate(tuning_activations, axis = 0)\n",
    "#tuning\n",
    "#print(tuning_activations.shape)\n",
    "#print(len(tuning_activations))\n",
    "#print(tuning_activations.shape)\n",
    "\n",
    "com_directions = None\n",
    "interventions = get_interventions_dict(top_heads, probes, tuning_activations, num_heads, args.use_center_of_mass, args.use_random_dir, com_directions)\n"
   ]
  },
  {
   "cell_type": "code",
   "execution_count": 8,
   "metadata": {},
   "outputs": [],
   "source": [
    "# pertubations = get_pertubations_dict(top_heads, tuning_activations, num_heads)\n",
    "# pertubations"
   ]
  },
  {
   "cell_type": "code",
   "execution_count": 111,
   "metadata": {},
   "outputs": [],
   "source": [
    "# interventions"
   ]
  },
  {
   "cell_type": "markdown",
   "metadata": {},
   "source": [
    "#### We get the Covariance matrix --> scatter matrix per head and class\n",
    "#### Calculate the lda? \n",
    "#### We need to identify the head that separates the different classes the best --> Eigenscore? \n",
    "#### We then need to find a direction that separates the classes --> Eigenvector? \n",
    "#### Could the problem also be with the data??? --> no\n",
    "#### BUT even heads that there identified for the \"better\" dataset does not have good direction with probe methodology \n"
   ]
  },
  {
   "cell_type": "code",
   "execution_count": null,
   "metadata": {},
   "outputs": [],
   "source": [
    "import numpy as np\n",
    "\n",
    "def lda_direction(X, y):\n",
    "    # Separate the data into classes\n",
    "    class_0 = X[y == 0]\n",
    "    class_1 = X[y == 1]\n",
    "    \n",
    "    # Compute the mean of each class\n",
    "    mean_0 = np.mean(class_0, axis=0)\n",
    "    mean_1 = np.mean(class_1, axis=0)\n",
    "    \n",
    "    # Compute the overall mean\n",
    "    overall_mean = np.mean(X, axis=0)\n",
    "    \n",
    "    # Compute the within-class scatter matrix\n",
    "    S_w = np.cov(class_0, rowvar=False) * (len(class_0) - 1) + np.cov(class_1, rowvar=False) * (len(class_1) - 1)\n",
    "    \n",
    "    # Compute the between-class scatter matrix\n",
    "    mean_diff = (mean_0 - mean_1).reshape(-1, 1)\n",
    "    S_b = np.dot(mean_diff, mean_diff.T)\n",
    "    \n",
    "    # Solve the generalized eigenvalue problem for the matrix inv(S_w).dot(S_b)\n",
    "    eigvals, eigvecs = np.linalg.eig(np.linalg.inv(S_w).dot(S_b))\n",
    "    \n",
    "    # Find the eigenvector with the largest eigenvalue\n",
    "    max_eigvec = eigvecs[:, np.argmax(eigvals)]\n",
    "    \n",
    "    return max_eigvec\n",
    "\n",
    "# Example usage:\n",
    "# Assuming X is your data matrix (n_samples, n_features) and y is your label vector (n_samples,)\n",
    "# X = np.array([...])\n",
    "# y = np.array([...])\n",
    "# direction = lda_direction(X, y)\n",
    "# print(\"Direction that best separates the classes:\", direction)\n"
   ]
  },
  {
   "cell_type": "code",
   "execution_count": null,
   "metadata": {},
   "outputs": [],
   "source": [
    "def _solve_eigen(self, X, y, shrinkage, covariance_estimator):\n",
    "        \"\"\"Eigenvalue solver.\n",
    "\n",
    "        The eigenvalue solver computes the optimal solution of the Rayleigh\n",
    "        coefficient (basically the ratio of between class scatter to within\n",
    "        class scatter). This solver supports both classification and\n",
    "        dimensionality reduction (with any covariance estimator).\n",
    "\n",
    "        Parameters\n",
    "        ----------\n",
    "        X : array-like of shape (n_samples, n_features)\n",
    "            Training data.\n",
    "\n",
    "        y : array-like of shape (n_samples,) or (n_samples, n_targets)\n",
    "            Target values.\n",
    "\n",
    "        shrinkage : 'auto', float or None\n",
    "            Shrinkage parameter, possible values:\n",
    "              - None: no shrinkage.\n",
    "              - 'auto': automatic shrinkage using the Ledoit-Wolf lemma.\n",
    "              - float between 0 and 1: fixed shrinkage constant.\n",
    "\n",
    "            Shrinkage parameter is ignored if  `covariance_estimator` i\n",
    "            not None\n",
    "\n",
    "        covariance_estimator : estimator, default=None\n",
    "            If not None, `covariance_estimator` is used to estimate\n",
    "            the covariance matrices instead of relying the empirical\n",
    "            covariance estimator (with potential shrinkage).\n",
    "            The object should have a fit method and a ``covariance_`` attribute\n",
    "            like the estimators in sklearn.covariance.\n",
    "            if None the shrinkage parameter drives the estimate.\n",
    "\n",
    "            .. versionadded:: 0.24\n",
    "\n",
    "        Notes\n",
    "        -----\n",
    "        This solver is based on [1]_, section 3.8.3, pp. 121-124.\n",
    "\n",
    "        References\n",
    "        ----------\n",
    "        .. [1] R. O. Duda, P. E. Hart, D. G. Stork. Pattern Classification\n",
    "           (Second Edition). John Wiley & Sons, Inc., New York, 2001. ISBN\n",
    "           0-471-05669-3.\n",
    "        \"\"\"\n",
    "        self.means_ = _class_means(X, y)\n",
    "        self.covariance_ = _class_cov(\n",
    "            X, y, self.priors_, shrinkage, covariance_estimator\n",
    "        )\n",
    "\n",
    "        Sw = self.covariance_  # within scatter\n",
    "        St = _cov(X, shrinkage, covariance_estimator)  # total scatter\n",
    "        Sb = St - Sw  # between scatter\n",
    "\n",
    "        evals, evecs = linalg.eigh(Sb, Sw)\n",
    "        self.explained_variance_ratio_ = np.sort(evals / np.sum(evals))[::-1][\n",
    "            : self._max_components\n",
    "        ]\n",
    "        evecs = evecs[:, np.argsort(evals)[::-1]]  # sort eigenvectors\n",
    "\n",
    "        self.scalings_ = evecs\n",
    "        self.coef_ = np.dot(self.means_, evecs).dot(evecs.T)\n",
    "        self.intercept_ = -0.5 * np.diag(np.dot(self.means_, self.coef_.T)) + np.log(\n",
    "            self.priors_\n",
    "        )"
   ]
  }
 ],
 "metadata": {
  "kernelspec": {
   "display_name": "llm_updated",
   "language": "python",
   "name": "python3"
  },
  "language_info": {
   "codemirror_mode": {
    "name": "ipython",
    "version": 3
   },
   "file_extension": ".py",
   "mimetype": "text/x-python",
   "name": "python",
   "nbconvert_exporter": "python",
   "pygments_lexer": "ipython3",
   "version": "3.9.18"
  }
 },
 "nbformat": 4,
 "nbformat_minor": 2
}
