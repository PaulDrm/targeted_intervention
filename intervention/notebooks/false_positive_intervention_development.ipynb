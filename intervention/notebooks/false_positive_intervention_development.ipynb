{
 "cells": [
  {
   "cell_type": "code",
   "execution_count": 1,
   "metadata": {},
   "outputs": [],
   "source": [
    "from pandas import json_normalize\n",
    "import pandas as pd\n",
    "import json"
   ]
  },
  {
   "cell_type": "code",
   "execution_count": 2,
   "metadata": {},
   "outputs": [],
   "source": [
    "def generate_majority_predictions(df): \n",
    "    predict = {}\n",
    "    predict = []\n",
    "    for req_id in df['req_id'].unique(): \n",
    "\n",
    "        req_df = df[df['req_id'] == req_id]\n",
    "        maj_ele = req_df['predict'].value_counts().index[0]\n",
    "        uncertainty = max(req_df['predict'].value_counts()) / len(req_df)\n",
    "        #print(req_id)\n",
    "        \n",
    "        mean_score = req_df[(req_df['req_id']==req_id)& (req_df['predict']!= \"undefined\") & (req_df['score']!=\"undefined\")].score.mean()\n",
    "        \n",
    "        #predict[req_id] = {\"majority_predict\" : maj_ele, \"uncertainty\" : uncertainty}\n",
    "        predict.append({\"req_id\": req_id, \"majority_predict\" : maj_ele, \"uncertainty\" : uncertainty, \"mean_score\": mean_score})\n",
    "    predict = pd.DataFrame(predict)\n",
    "    return predict"
   ]
  },
  {
   "cell_type": "code",
   "execution_count": 3,
   "metadata": {},
   "outputs": [],
   "source": [
    "import pandas as pd \n",
    "\n",
    "def get_results_gt(df_predict, df_gt): \n",
    "\n",
    "    predict = generate_majority_predictions(df_predict)\n",
    "\n",
    "    ground_truth = generate_majority_predictions(df_gt)\n",
    "\n",
    "    # Merge the DataFrames on the 'req_id' column\n",
    "    merged_df = pd.merge(predict, ground_truth, on='req_id', suffixes=('_gpt4', '_openchat'))\n",
    "\n",
    "    # Compare the values in the 'majority_predict' column\n",
    "    merged_df['is_same'] = merged_df['majority_predict_gpt4'] == merged_df['majority_predict_openchat']\n",
    "    merged_df.head(5)\n",
    "\n",
    "    df1 = df_predict\n",
    "    df2 = merged_df\n",
    "    key = \"req_id\"\n",
    "    # Merging df1 with a column (value2) from df2 using 'key' as the common column\n",
    "    df = df1.merge(df2[[key, 'majority_predict_openchat',\"uncertainty_openchat\",'is_same']], on=key, how='left')\n",
    "    df = df.rename(columns={'is_same':'correct'})\n",
    "\n",
    "    ## only include examples that finished with valid response\n",
    "    df = df[(df['score'] != \"undefined\") & (df['predict']!= \"undefined\")]\n",
    "\n",
    "    #df = df[df['majority_predict_openchat'] != \"undefined\"]\n",
    "\n",
    "    df.reset_index(drop=True, inplace=True)\n",
    "\n",
    "    return df "
   ]
  },
  {
   "cell_type": "code",
   "execution_count": 59,
   "metadata": {},
   "outputs": [],
   "source": [
    "#df_openchat = pd.read_json(\"dataframe_open_chat_cot_moon_18012024_attentions.json\")\n",
    "\n",
    "df_openchat = pd.read_json(\"requirements_data/dataframe_open_chat_cot_moon_06022024_attentions.json\")\n",
    "\n",
    "df_gpt4 = pd.read_json(\"results_gpt4_cot_moon_complete.json\")\n",
    "\n",
    "df = get_results_gt(df_openchat, df_gpt4)\n",
    "\n",
    "df.to_json(\"dataframe_open_chat_cot_moon_06022024_attentions_gt.json\", orient=\"records\", indent=4)"
   ]
  },
  {
   "cell_type": "code",
   "execution_count": 4,
   "metadata": {},
   "outputs": [],
   "source": [
    "#df_openchat = pd.read_json(\"dataframe_open_chat_cot_moon_18012024_attentions.json\")\n",
    "\n",
    "df_openchat = pd.read_json(\"requirements_data/dataframe_open_chat_cot_moon_09042024_attentions.json\")\n",
    "\n",
    "df_gpt4 = pd.read_json(\"results_gpt4_cot_moon_complete.json\")\n",
    "\n",
    "df = get_results_gt(df_openchat, df_gpt4)\n",
    "\n",
    "df.to_json(\"dataframe_open_chat_cot_moon_09042024_attentions_gt.json\", orient=\"records\", indent=4)"
   ]
  },
  {
   "cell_type": "code",
   "execution_count": 5,
   "metadata": {},
   "outputs": [],
   "source": [
    "df_openchat = pd.read_json(\"requirements_data/dataframe_open_chat_cot_moon_18012024_attentions_new.json\")\n",
    "\n",
    "#df_openchat = pd.read_json(\"requirements_data/dataframe_open_chat_cot_moon_06022024_attentions.json\")\n",
    "\n",
    "df_gpt4 = pd.read_json(\"results_gpt4_cot_moon_complete.json\")\n",
    "\n",
    "df = get_results_gt(df_openchat, df_gpt4)\n",
    "\n",
    "df.to_json(\"dataframe_open_chat_cot_moon_18012024_attentions_gt_new.json\", orient=\"records\", indent=4)"
   ]
  },
  {
   "cell_type": "markdown",
   "metadata": {},
   "source": [
    "### Filter df for false positives and negatives"
   ]
  },
  {
   "cell_type": "code",
   "execution_count": 5,
   "metadata": {},
   "outputs": [],
   "source": [
    "df = pd.read_json(\"dataframe_open_chat_cot_moon_18012024_attentions_gt.json\")\n",
    "\n",
    "df = df[df['majority_predict_openchat'] != \"undefined\"]\n",
    "\n",
    "df = df[df['uncertainty_openchat'] > 0.5]\n",
    "\n",
    "## filter for false positives and true negatives\n",
    "df = df[((df.final_answer == True) & (df.correct == False)) | ((df.final_answer == False) & (df.correct == True))]\n",
    "\n",
    "#df = df[df.final_answer == True]\n",
    "df.reset_index(drop=True, inplace=True)"
   ]
  },
  {
   "cell_type": "markdown",
   "metadata": {},
   "source": [
    "### Filter df for false and positives"
   ]
  },
  {
   "cell_type": "code",
   "execution_count": 12,
   "metadata": {},
   "outputs": [],
   "source": [
    "df = pd.read_json(\"requirements_data/dataframe_open_chat_cot_moon_06022024_attentions_gt.json\")\n",
    "\n",
    "#df = df[df['uncertainty_openchat'] > 0.5]\n",
    "## filter for false positives and true negatives\n",
    "#df# = df[((df.final_answer == True) & (df.correct == False)) | ((df.final_answer == False) & (df.correct == True))]\n",
    "#df = df[df.final_answer == True]\n",
    "\n",
    "df.reset_index(drop=True, inplace=True)\n",
    "correct = [0 if value == \"yes\" else 1 for value in df.predict.values]\n",
    "df.correct = correct\n",
    "\n",
    "# ## variant examples\n",
    "# variance = []\n",
    "# for req_id in df['req_id'].unique(): \n",
    "\n",
    "#     if df[df['req_id'] == req_id]['predict'].nunique() > 1: \n",
    "#         print(req_id)\n",
    "#         variance.append(req_id)"
   ]
  },
  {
   "cell_type": "code",
   "execution_count": 81,
   "metadata": {},
   "outputs": [
    {
     "data": {
      "text/plain": [
       "array([0, 1, 2, 3, 4, 5, 6, 7, 8, 9])"
      ]
     },
     "execution_count": 81,
     "metadata": {},
     "output_type": "execute_result"
    }
   ],
   "source": [
    "train_idxs"
   ]
  },
  {
   "cell_type": "code",
   "execution_count": 61,
   "metadata": {},
   "outputs": [],
   "source": [
    "# grouped = df.groupby('req_id')\n",
    "# #grouped.head(5)\n",
    "# # Filter groups by unique values in Column2\n",
    "# filtered_df = df.groupby('req_id').filter(lambda x: x['predict'].nunique() > 1)\n",
    " \n",
    "# print(filtered_df)"
   ]
  },
  {
   "cell_type": "code",
   "execution_count": 43,
   "metadata": {},
   "outputs": [
    {
     "name": "stdout",
     "output_type": "stream",
     "text": [
      "Empty DataFrame\n",
      "Columns: [prompt, output, final_answer, predict, score, sequence_uncertainty, hidden_states.-1_last_token, hidden_states.-8_last_token, hidden_states.-16_last_token, hidden_states.-24_last_token, req_id, requirement, complete_inputs, attentions, majority_predict_openchat, uncertainty_openchat, correct]\n",
      "Index: []\n"
     ]
    }
   ],
   "source": []
  },
  {
   "cell_type": "markdown",
   "metadata": {},
   "source": [
    "### get false positives and true negatives pairs"
   ]
  },
  {
   "cell_type": "code",
   "execution_count": 54,
   "metadata": {},
   "outputs": [],
   "source": [
    "## get indexes same req but different predicts \n",
    "\n",
    "df_openchat = pd.read_json(\"dataframe_open_chat_cot_moon_18012024_attentions.json\")\n",
    "predict_openchat = generate_majority_predictions(df_openchat)\n",
    "\n",
    "df_gpt4 = pd.read_json(\"results_gpt4_cot_moon_complete.json\")\n",
    "predict_gpt4 = generate_majority_predictions(df_gpt4)\n",
    "\n",
    "# Merge the DataFrames on the 'req_id' column\n",
    "merged_df = pd.merge(predict_gpt4, predict_openchat, on='req_id', suffixes=('_gpt4', '_openchat'))\n",
    "\n",
    "# Compare the values in the 'majority_predict' column\n",
    "merged_df['is_same'] = merged_df['majority_predict_gpt4'] == merged_df['majority_predict_openchat']\n",
    "merged_df.head(5)\n",
    "\n",
    "df1 = df_openchat\n",
    "df2 = merged_df\n",
    "key = \"req_id\"\n",
    "# Merging df1 with a column (value2) from df2 using 'key' as the common column\n",
    "df = df1.merge(df2[[key, 'majority_predict_openchat',\"uncertainty_openchat\",'is_same']], on=key, how='left')\n",
    "df = df.rename(columns={'is_same':'correct'})\n",
    "\n",
    "## only include examples that finished with valid response\n",
    "df = df[(df['score'] != \"undefined\") & (df['predict']!= \"undefined\")]\n",
    "\n",
    "# corrects = []\n",
    "# ## preprocessing to give rowise predict information\n",
    "# for row in df.iterrows():\n",
    "#     if row[1]['correct'] == True:\n",
    "#         corrects.append(row[1].predict == row[1]['majority_predict_openchat'])\n",
    "#     else:\n",
    "#         corrects.append(row[1].predict!= row[1]['majority_predict_openchat'])\n",
    "\n",
    "# df.correct = corrects\n",
    "\n",
    "# ## filter for false positives\n",
    "# filt = df[((df.final_answer == True) & (df.correct == False))].req_id.unique()\n",
    "\n",
    "# ## only include examples what have false positives \n",
    "# df = df[df.req_id.isin(filt)]\n",
    "\n",
    "# #df = df[df.final_answer == True]\n",
    "# df.reset_index(drop=True, inplace=True)\n",
    "\n",
    "# ## variant examples\n",
    "# variance = []\n",
    "# for req_id in df['req_id'].unique(): \n",
    "\n",
    "#     if df[df['req_id'] == req_id]['predict'].nunique() > 1: \n",
    "#         print(req_id)\n",
    "#         variance.append(req_id)"
   ]
  },
  {
   "cell_type": "code",
   "execution_count": 55,
   "metadata": {},
   "outputs": [
    {
     "data": {
      "text/plain": [
       "correct\n",
       "True     53\n",
       "False    40\n",
       "Name: count, dtype: int64"
      ]
     },
     "execution_count": 55,
     "metadata": {},
     "output_type": "execute_result"
    }
   ],
   "source": [
    "df.correct.value_counts()"
   ]
  },
  {
   "cell_type": "code",
   "execution_count": 30,
   "metadata": {},
   "outputs": [
    {
     "data": {
      "text/plain": [
       "array(['RQ-8-3', 'RQ-8-5', 'RQ-2-2', 'RQ-2-5', 'RQ-8-6', 'RQ-8-7',\n",
       "       'RQ-11', 'RQ-12', 'RQ-2-6', 'RQ-2-7', 'RQ-2-12', 'RQ-2-8'],\n",
       "      dtype=object)"
      ]
     },
     "execution_count": 30,
     "metadata": {},
     "output_type": "execute_result"
    }
   ],
   "source": [
    "df['req_id'].unique()"
   ]
  },
  {
   "cell_type": "code",
   "execution_count": 41,
   "metadata": {},
   "outputs": [
    {
     "data": {
      "text/plain": [
       "array(['RQ-8-3', 'RQ-8-5', 'RQ-2-2', 'RQ-2-5', 'RQ-8-6', 'RQ-8-7',\n",
       "       'RQ-11', 'RQ-12', 'RQ-2-6', 'RQ-2-7', 'RQ-2-12', 'RQ-2-8'],\n",
       "      dtype=object)"
      ]
     },
     "execution_count": 41,
     "metadata": {},
     "output_type": "execute_result"
    }
   ],
   "source": [
    "filt"
   ]
  },
  {
   "cell_type": "code",
   "execution_count": null,
   "metadata": {},
   "outputs": [],
   "source": [
    "df"
   ]
  },
  {
   "cell_type": "code",
   "execution_count": 8,
   "metadata": {},
   "outputs": [
    {
     "data": {
      "text/plain": [
       "correct\n",
       "0    58\n",
       "1    35\n",
       "Name: count, dtype: int64"
      ]
     },
     "execution_count": 8,
     "metadata": {},
     "output_type": "execute_result"
    }
   ],
   "source": [
    "import pandas as pd \n",
    "\n",
    "#df = pd.read_json(\"requirements_data/dataframe_open_chat_cot_moon_18012024_attentions_gt.json\")\n",
    "\n",
    "df = pd.read_json(\"requirements_data/dataframe_open_chat_cot_moon_18012024_attentions_gt_new.json\")\n",
    "correct = [0 if value == \"yes\" else 1 for value in df.predict.values]\n",
    "\n",
    "df.correct = correct\n",
    "\n",
    "df.correct.value_counts()\n",
    "\n",
    "# corrects = []\n",
    "# ## preprocessing to give rowise predict information\n",
    "# for row in df.iterrows():\n",
    "#     if row[1]['correct'] == True:\n",
    "#         corrects.append(row[1].predict == row[1]['majority_predict_openchat'])\n",
    "#     else:\n",
    "#         corrects.append(row[1].predict!= row[1]['majority_predict_openchat'])\n",
    "\n",
    "# df.correct = corrects\n",
    "\n",
    "# ## filter for false positives\n",
    "# filt = df[((df.final_answer == True) & (df.correct == False))].req_id.unique()\n",
    "\n",
    "# ## only include examples what have false positives \n",
    "# df = df[df.req_id.isin(filt)]\n",
    "\n",
    "# #df = df[df.final_answer == True]\n",
    "# df.reset_index(drop=True, inplace=True)\n",
    "\n",
    "# ## variant examples\n",
    "# variance = []\n",
    "# for req_id in df['req_id'].unique(): \n",
    "\n",
    "#     if df[df['req_id'] == req_id]['predict'].nunique() > 1: \n",
    "#         print(req_id)\n",
    "#         variance.append(req_id)"
   ]
  },
  {
   "cell_type": "code",
   "execution_count": null,
   "metadata": {},
   "outputs": [],
   "source": []
  },
  {
   "cell_type": "code",
   "execution_count": 46,
   "metadata": {},
   "outputs": [
    {
     "data": {
      "text/plain": [
       "correct\n",
       "True     79\n",
       "False    14\n",
       "Name: count, dtype: int64"
      ]
     },
     "execution_count": 46,
     "metadata": {},
     "output_type": "execute_result"
    }
   ],
   "source": [
    "df.correct.value_counts()"
   ]
  },
  {
   "cell_type": "code",
   "execution_count": 43,
   "metadata": {},
   "outputs": [
    {
     "data": {
      "text/plain": [
       "array(['RQ-2-5', 'RQ-2-6', 'RQ-2-8'], dtype=object)"
      ]
     },
     "execution_count": 43,
     "metadata": {},
     "output_type": "execute_result"
    }
   ],
   "source": [
    "df['req_id'].unique()"
   ]
  },
  {
   "cell_type": "code",
   "execution_count": 35,
   "metadata": {},
   "outputs": [],
   "source": [
    "#df"
   ]
  },
  {
   "cell_type": "code",
   "execution_count": 106,
   "metadata": {},
   "outputs": [
    {
     "data": {
      "text/plain": [
       "93    yes\n",
       "94     no\n",
       "95    yes\n",
       "96    yes\n",
       "97     no\n",
       "Name: predict, dtype: object"
      ]
     },
     "execution_count": 106,
     "metadata": {},
     "output_type": "execute_result"
    }
   ],
   "source": [
    "req_id = \"RQ-2-12\"\n",
    "df[df['req_id'] == req_id]['predict']"
   ]
  },
  {
   "cell_type": "code",
   "execution_count": 108,
   "metadata": {},
   "outputs": [
    {
     "data": {
      "text/plain": [
       "array(['RQ-8-3', 'RQ-8-5', 'RQ-2-2', 'RQ-2-5', 'RQ-8-6', 'RQ-8-7',\n",
       "       'RQ-11', 'RQ-12', 'RQ-2-6', 'RQ-2-7', 'RQ-2-12', 'RQ-2-8'],\n",
       "      dtype=object)"
      ]
     },
     "execution_count": 108,
     "metadata": {},
     "output_type": "execute_result"
    }
   ],
   "source": [
    "df.req_id.unique()"
   ]
  },
  {
   "cell_type": "code",
   "execution_count": 125,
   "metadata": {},
   "outputs": [
    {
     "data": {
      "text/plain": [
       "['RQ-8-5', 'RQ-2-5', 'RQ-11', 'RQ-12', 'RQ-2-6', 'RQ-2-7', 'RQ-2-12', 'RQ-2-8']"
      ]
     },
     "execution_count": 125,
     "metadata": {},
     "output_type": "execute_result"
    }
   ],
   "source": [
    "variance"
   ]
  },
  {
   "cell_type": "code",
   "execution_count": 129,
   "metadata": {},
   "outputs": [
    {
     "data": {
      "text/plain": [
       "{'RQ-8-3': [0, 1, 2, 3],\n",
       " 'RQ-8-5': [4, 5, 6, 7, 8],\n",
       " 'RQ-2-2': [9, 10, 11, 12, 13],\n",
       " 'RQ-2-5': [14, 15, 16, 17, 18],\n",
       " 'RQ-8-6': [19, 20, 21, 22],\n",
       " 'RQ-8-7': [23, 24, 25, 26, 27],\n",
       " 'RQ-11': [28, 29, 30, 31],\n",
       " 'RQ-12': [32, 33, 34, 35],\n",
       " 'RQ-2-6': [36, 37, 38, 39],\n",
       " 'RQ-2-7': [40, 41, 42, 43],\n",
       " 'RQ-2-12': [44, 45, 46, 47, 48],\n",
       " 'RQ-2-8': [49, 50, 51, 52, 53]}"
      ]
     },
     "execution_count": 129,
     "metadata": {},
     "output_type": "execute_result"
    }
   ],
   "source": [
    "index_dic"
   ]
  },
  {
   "cell_type": "code",
   "execution_count": 208,
   "metadata": {},
   "outputs": [],
   "source": [
    "#list(index_dic.keys())"
   ]
  },
  {
   "cell_type": "markdown",
   "metadata": {},
   "source": [
    "### Train test_split"
   ]
  },
  {
   "cell_type": "markdown",
   "metadata": {},
   "source": [
    "#### old"
   ]
  },
  {
   "cell_type": "code",
   "execution_count": 23,
   "metadata": {},
   "outputs": [
    {
     "name": "stdout",
     "output_type": "stream",
     "text": [
      "[ 0  1  2  3  4  5  6  7  8  9 10 11 12 13 14 15 16 17 18 19]\n",
      "10\n"
     ]
    }
   ],
   "source": [
    "import numpy as np\n",
    "\n",
    "from dataclasses import dataclass\n",
    "\n",
    "@dataclass\n",
    "class Args:\n",
    "    #model_name: str\n",
    "    #dataset_name: str\n",
    "    #activations_dataset: str\n",
    "    val_ratio: float\n",
    "\n",
    "args = Args(val_ratio=0.5)\n",
    "\n",
    "#req_ids = []\n",
    "index_dic = {}\n",
    "separated_activations = []\n",
    "separated_labels = []\n",
    "reqs_order = []\n",
    "for req_id in df['req_id'].unique():\n",
    "\n",
    "    req_df = df[df['req_id'] == req_id].index\n",
    "\n",
    "    #req_ids.append(req_df)\n",
    "    index_dic[req_id] = list(req_df)\n",
    "    \n",
    "    temp_activations = df[df['req_id'] == req_id].attentions\n",
    "    activations = np.array([list(sample.values()) for sample in temp_activations.values])#.shape\n",
    "    batch_length = len(temp_activations)\n",
    "    dim = 128\n",
    "    activations = np.reshape(activations, (batch_length, 32, 32, dim))\n",
    "\n",
    "    temp_labels =[1 if label==True else 0 for label in df[df['req_id'] == req_id]['correct'].values]\n",
    "    separated_labels.append(temp_labels)\n",
    "    separated_activations.append(activations)\n",
    "    reqs_order.append(req_id)\n",
    "    \n",
    "import numpy as np\n",
    "\n",
    "#train_idxs = [reqs_order.index(i) for i in variance]\n",
    "train_idxs = np.arange(len(reqs_order))\n",
    "print(train_idxs)\n",
    "\n",
    "indexes = np.arange(len(reqs_order))\n",
    "# Create a random generator with a specific seed\n",
    "seed = 42  # You can choose your own seed value\n",
    "rng = np.random.default_rng(seed)\n",
    "size = int(len(reqs_order)*(1-args.val_ratio))\n",
    "print(size)\n",
    "train_set_idxs = rng.choice(train_idxs, size=size, replace=False)\n",
    "val_set_idxs = np.array([x for x in indexes if x not in train_set_idxs])\n",
    "\n",
    "# pick a val set using numpy\n",
    "#train_set_idxs = np.random.choice(train_idxs, size=int(len(train_idxs)*(1-args.val_ratio)), replace=False)\n",
    "#val_set_idxs = np.array([x for x in train_idxs if x not in train_set_idxs])\n",
    "len(val_set_idxs)\n",
    "\n",
    "val_index_list = np.concatenate([list(index_dic.values())[i] for i in val_set_idxs], axis = 0)\n",
    "val_set = df.loc[val_index_list]\n",
    "\n"
   ]
  },
  {
   "cell_type": "markdown",
   "metadata": {},
   "source": [
    "#### new"
   ]
  },
  {
   "cell_type": "code",
   "execution_count": 9,
   "metadata": {},
   "outputs": [
    {
     "name": "stdout",
     "output_type": "stream",
     "text": [
      "[array([ 0,  1,  2,  3,  4,  5,  6,  7,  8,  9, 10, 11, 12, 13, 14, 15, 16,\n",
      "       17, 18, 19])]\n",
      "[ 0  1  2  3  4  5  6  7  8  9 10 11 12 13 14 15 16 17 18 19]\n",
      "[ 1  9  0  8  6 14 12 19  3 13]\n",
      "[ 2  4  5  7 10 11 15 16 17 18]\n",
      "[ 2  4  5  7 10 11 15 16 17 18]\n"
     ]
    }
   ],
   "source": [
    "import numpy as np \n",
    "index_dic = {}\n",
    "separated_activations = []\n",
    "separated_labels = []\n",
    "reqs_order = []\n",
    "for req_id in df['req_id'].unique():\n",
    "\n",
    "    req_df = df[df['req_id'] == req_id].index\n",
    "\n",
    "    #req_ids.append(req_df)\n",
    "    index_dic[req_id] = list(req_df)\n",
    "    \n",
    "    temp_activations = df[df['req_id'] == req_id].attentions\n",
    "    activations = np.array([list(sample.values()) for sample in temp_activations.values])#.shape\n",
    "    batch_length = len(temp_activations)\n",
    "    dim = 128\n",
    "    activations = np.reshape(activations, (batch_length, 32, 32, dim))\n",
    "\n",
    "    temp_labels =[1 if label==True else 0 for label in df[df['req_id'] == req_id]['correct'].values]\n",
    "    separated_labels.append(temp_labels)\n",
    "    separated_activations.append(activations)\n",
    "    reqs_order.append(req_id)\n",
    "\n",
    "number_of_examples = np.arange(len(reqs_order))\n",
    "\n",
    "# get two folds using numpy\n",
    "num_fold = 1\n",
    "fold_idxs = np.array_split(number_of_examples, num_fold)\n",
    "\n",
    "i=0\n",
    "\n",
    "if num_fold == 1: \n",
    "            train_idxs = np.arange(len(reqs_order))\n",
    "else:\n",
    "\n",
    "    train_idxs = np.concatenate([fold_idxs[j] for j in range(num_fold) if j != i])\n",
    "\n",
    "\n",
    "val_ratio = 0.5 \n",
    "seed = 42  # You can choose your own seed value\n",
    "rng = np.random.default_rng(seed)\n",
    "size = int(len(train_idxs)*(1-val_ratio))\n",
    "#print(size)\n",
    "train_set_idxs = rng.choice(train_idxs, size=size, replace=False)\n",
    "val_set_idxs = np.array([x for x in train_idxs if x not in train_set_idxs])\n",
    "\n",
    "if len(fold_idxs) == 1:\n",
    "    test_idxs = val_set_idxs\n",
    "else:\n",
    "    test_idxs = fold_idxs[i]\n",
    "\n",
    "print(fold_idxs)\n",
    "print(train_idxs)\n",
    "print(train_set_idxs)\n",
    "print(val_set_idxs)\n",
    "print(test_idxs)\n",
    "\n",
    "train_index_list = np.concatenate([list(index_dic.values())[i] for i in train_set_idxs], axis = 0)\n",
    "train_set = df.loc[train_index_list]\n"
   ]
  },
  {
   "cell_type": "code",
   "execution_count": 15,
   "metadata": {},
   "outputs": [],
   "source": [
    "df = pd.read_json(\"./requirements_data/dataframe_open_chat_cot_moon_06022024_attentions_gt.json\")\n",
    "correct = [0 if value == \"yes\" else 1 for value in df.predict.values]\n",
    "df.correct = correct"
   ]
  },
  {
   "cell_type": "code",
   "execution_count": 16,
   "metadata": {},
   "outputs": [],
   "source": [
    "test_set = df[~df.req_id.isin(train_set.req_id.unique())]"
   ]
  },
  {
   "cell_type": "code",
   "execution_count": 17,
   "metadata": {},
   "outputs": [
    {
     "data": {
      "text/html": [
       "<div>\n",
       "<style scoped>\n",
       "    .dataframe tbody tr th:only-of-type {\n",
       "        vertical-align: middle;\n",
       "    }\n",
       "\n",
       "    .dataframe tbody tr th {\n",
       "        vertical-align: top;\n",
       "    }\n",
       "\n",
       "    .dataframe thead th {\n",
       "        text-align: right;\n",
       "    }\n",
       "</style>\n",
       "<table border=\"1\" class=\"dataframe\">\n",
       "  <thead>\n",
       "    <tr style=\"text-align: right;\">\n",
       "      <th></th>\n",
       "      <th>prompt</th>\n",
       "      <th>output</th>\n",
       "      <th>final_answer</th>\n",
       "      <th>predict</th>\n",
       "      <th>score</th>\n",
       "      <th>sequence_uncertainty</th>\n",
       "      <th>hidden_states.-1_last_token</th>\n",
       "      <th>hidden_states.-8_last_token</th>\n",
       "      <th>hidden_states.-16_last_token</th>\n",
       "      <th>hidden_states.-24_last_token</th>\n",
       "      <th>req_id</th>\n",
       "      <th>requirement</th>\n",
       "      <th>complete_inputs</th>\n",
       "      <th>attentions</th>\n",
       "      <th>majority_predict_openchat</th>\n",
       "      <th>uncertainty_openchat</th>\n",
       "      <th>correct</th>\n",
       "    </tr>\n",
       "  </thead>\n",
       "  <tbody>\n",
       "    <tr>\n",
       "      <th>11</th>\n",
       "      <td>GPT4 Correct User:System: |Structure, Shieldin...</td>\n",
       "      <td>\\n\\n1. The Logical System directly contains th...</td>\n",
       "      <td>True</td>\n",
       "      <td>yes</td>\n",
       "      <td>0.84</td>\n",
       "      <td>0.16</td>\n",
       "      <td>[4.6953125, 4.53125, 0.6303710938, 2.912109375...</td>\n",
       "      <td>[0.0170898438, 0.0705566406, 0.094238281200000...</td>\n",
       "      <td>[0.0143737793, 0.0370483398, 0.0023880005, 0.0...</td>\n",
       "      <td>[-0.0162353516, 0.0102996826, -0.0104675293, -...</td>\n",
       "      <td>RQ-8-3</td>\n",
       "      <td>The settlement shall remove sufficient particl...</td>\n",
       "      <td>GPT4 Correct User:System: |Structure, Shieldin...</td>\n",
       "      <td>{'layer_0_head_0': [-0.0001180172, -0.00097846...</td>\n",
       "      <td>no</td>\n",
       "      <td>1.000000</td>\n",
       "      <td>0</td>\n",
       "    </tr>\n",
       "    <tr>\n",
       "      <th>12</th>\n",
       "      <td>GPT4 Correct User:System: |Structure, Shieldin...</td>\n",
       "      <td>\\n\\nThe requirement states that the settlement...</td>\n",
       "      <td>False</td>\n",
       "      <td>no</td>\n",
       "      <td>0.79</td>\n",
       "      <td>0.19</td>\n",
       "      <td>[0.5971679688, 3.244140625, 1.2392578125, 0.00...</td>\n",
       "      <td>[-0.0775146484, 0.08056640620000001, 0.0192260...</td>\n",
       "      <td>[-0.11169433590000001, 0.031097412100000003, -...</td>\n",
       "      <td>[-0.0031986237, -0.0024681091, 0.0102233887, -...</td>\n",
       "      <td>RQ-8-3</td>\n",
       "      <td>The settlement shall remove sufficient particl...</td>\n",
       "      <td>GPT4 Correct User:System: |Structure, Shieldin...</td>\n",
       "      <td>{'layer_0_head_0': [-0.0013647079, -0.00147819...</td>\n",
       "      <td>no</td>\n",
       "      <td>1.000000</td>\n",
       "      <td>1</td>\n",
       "    </tr>\n",
       "    <tr>\n",
       "      <th>13</th>\n",
       "      <td>GPT4 Correct User:System: |Structure, Shieldin...</td>\n",
       "      <td>\\n\\n1. The settlement is described as a Logica...</td>\n",
       "      <td>True</td>\n",
       "      <td>yes</td>\n",
       "      <td>0.96</td>\n",
       "      <td>0.19</td>\n",
       "      <td>[4.19921875, 2.958984375, 1.822265625, 2.01953...</td>\n",
       "      <td>[-0.0088500977, 0.0687255859, 0.126953125, 0.1...</td>\n",
       "      <td>[0.0054321289, 0.0107727051, 0.0121994019, 0.0...</td>\n",
       "      <td>[-0.0139846802, 0.0044174194, -0.0121612549, -...</td>\n",
       "      <td>RQ-8-3</td>\n",
       "      <td>The settlement shall remove sufficient particl...</td>\n",
       "      <td>GPT4 Correct User:System: |Structure, Shieldin...</td>\n",
       "      <td>{'layer_0_head_0': [-0.0007691383, -0.00194454...</td>\n",
       "      <td>no</td>\n",
       "      <td>1.000000</td>\n",
       "      <td>0</td>\n",
       "    </tr>\n",
       "    <tr>\n",
       "      <th>14</th>\n",
       "      <td>GPT4 Correct User:System: |Structure, Shieldin...</td>\n",
       "      <td>\\n\\n1. The System description mentions an \"Air...</td>\n",
       "      <td>True</td>\n",
       "      <td>yes</td>\n",
       "      <td>0.93</td>\n",
       "      <td>0.19</td>\n",
       "      <td>[4.94921875, 2.724609375, 1.4208984375, 1.8945...</td>\n",
       "      <td>[-0.0153808594, 0.0600280762, 0.0836181641, 0....</td>\n",
       "      <td>[-0.0078125, -0.0012817383, 0.0203857422, 0.07...</td>\n",
       "      <td>[-0.0220336914, 0.0043983459, -0.0174255371, -...</td>\n",
       "      <td>RQ-8-3</td>\n",
       "      <td>The settlement shall remove sufficient particl...</td>\n",
       "      <td>GPT4 Correct User:System: |Structure, Shieldin...</td>\n",
       "      <td>{'layer_0_head_0': [-0.0002641678, -0.00202560...</td>\n",
       "      <td>no</td>\n",
       "      <td>1.000000</td>\n",
       "      <td>0</td>\n",
       "    </tr>\n",
       "    <tr>\n",
       "      <th>15</th>\n",
       "      <td>GPT4 Correct User:System: |Structure, Shieldin...</td>\n",
       "      <td>\\n\\n1. The system description mentions the \"St...</td>\n",
       "      <td>True</td>\n",
       "      <td>yes</td>\n",
       "      <td>0.90</td>\n",
       "      <td>0.21</td>\n",
       "      <td>[3.966796875, 3.07421875, 2.54296875, 2.138671...</td>\n",
       "      <td>[0.0056152344, 0.0668334961, 0.1341552734, 0.2...</td>\n",
       "      <td>[0.00042724610000000003, 0.009307861300000001,...</td>\n",
       "      <td>[-0.0207061768, 0.010231018100000001, -0.01406...</td>\n",
       "      <td>RQ-8-3</td>\n",
       "      <td>The settlement shall remove sufficient particl...</td>\n",
       "      <td>GPT4 Correct User:System: |Structure, Shieldin...</td>\n",
       "      <td>{'layer_0_head_0': [-0.0010786057, -0.00123691...</td>\n",
       "      <td>no</td>\n",
       "      <td>1.000000</td>\n",
       "      <td>0</td>\n",
       "    </tr>\n",
       "    <tr>\n",
       "      <th>...</th>\n",
       "      <td>...</td>\n",
       "      <td>...</td>\n",
       "      <td>...</td>\n",
       "      <td>...</td>\n",
       "      <td>...</td>\n",
       "      <td>...</td>\n",
       "      <td>...</td>\n",
       "      <td>...</td>\n",
       "      <td>...</td>\n",
       "      <td>...</td>\n",
       "      <td>...</td>\n",
       "      <td>...</td>\n",
       "      <td>...</td>\n",
       "      <td>...</td>\n",
       "      <td>...</td>\n",
       "      <td>...</td>\n",
       "      <td>...</td>\n",
       "    </tr>\n",
       "    <tr>\n",
       "      <th>226</th>\n",
       "      <td>GPT4 Correct User:System: |Power| |is_containe...</td>\n",
       "      <td>\\n\\n1. The system contains \"Power\" as a compon...</td>\n",
       "      <td>True</td>\n",
       "      <td>yes</td>\n",
       "      <td>0.84</td>\n",
       "      <td>0.17</td>\n",
       "      <td>[5.80859375, 7.08203125, 3.345703125, 2.226562...</td>\n",
       "      <td>[0.043060302700000004, 0.0911865234, 0.1235351...</td>\n",
       "      <td>[-0.018371582, -0.014526367200000001, 0.044921...</td>\n",
       "      <td>[-0.0155258179, 0.0016555786, -0.0198364258, -...</td>\n",
       "      <td>RQ-3</td>\n",
       "      <td>The settlement shall generate and store suffic...</td>\n",
       "      <td>GPT4 Correct User:System: |Power| |is_containe...</td>\n",
       "      <td>{'layer_0_head_0': [-0.0008153915, -0.00226974...</td>\n",
       "      <td>no</td>\n",
       "      <td>0.666667</td>\n",
       "      <td>0</td>\n",
       "    </tr>\n",
       "    <tr>\n",
       "      <th>227</th>\n",
       "      <td>GPT4 Correct User:System: |Power| |is_containe...</td>\n",
       "      <td>\\n\\n1. The system has a Power component that d...</td>\n",
       "      <td>True</td>\n",
       "      <td>yes</td>\n",
       "      <td>0.87</td>\n",
       "      <td>0.14</td>\n",
       "      <td>[1.7353515625, 8.546875, 2.701171875, 1.263671...</td>\n",
       "      <td>[-0.013244628900000001, 0.1046142578, 0.159667...</td>\n",
       "      <td>[-0.0228271484, -0.005340576200000001, 0.06732...</td>\n",
       "      <td>[-0.0103759766, 0.0142364502, -0.0192413330000...</td>\n",
       "      <td>RQ-3</td>\n",
       "      <td>None</td>\n",
       "      <td>GPT4 Correct User:System: |Power| |is_containe...</td>\n",
       "      <td>{'layer_0_head_0': [-0.001698494, -0.002260208...</td>\n",
       "      <td>no</td>\n",
       "      <td>0.666667</td>\n",
       "      <td>0</td>\n",
       "    </tr>\n",
       "    <tr>\n",
       "      <th>228</th>\n",
       "      <td>GPT4 Correct User:System: |Power| |is_containe...</td>\n",
       "      <td>\\n\\n1. The System has a \"Power\" component that...</td>\n",
       "      <td>True</td>\n",
       "      <td>yes</td>\n",
       "      <td>0.87</td>\n",
       "      <td>0.15</td>\n",
       "      <td>[4.68359375, 6.81640625, 4.078125, 1.108398437...</td>\n",
       "      <td>[0.022277832, 0.0944824219, 0.1033935547, 0.14...</td>\n",
       "      <td>[-0.020324707, -0.001373291, 0.0390014648, 0.0...</td>\n",
       "      <td>[-0.0106811523, 0.0012512207, -0.0162506104, -...</td>\n",
       "      <td>RQ-3</td>\n",
       "      <td>None</td>\n",
       "      <td>GPT4 Correct User:System: |Power| |is_containe...</td>\n",
       "      <td>{'layer_0_head_0': [-0.0009388924, -0.00243568...</td>\n",
       "      <td>no</td>\n",
       "      <td>0.666667</td>\n",
       "      <td>0</td>\n",
       "    </tr>\n",
       "    <tr>\n",
       "      <th>229</th>\n",
       "      <td>GPT4 Correct User:System: |Power| |is_containe...</td>\n",
       "      <td>\\n\\n1. The System describes a variety of loops...</td>\n",
       "      <td>True</td>\n",
       "      <td>yes</td>\n",
       "      <td>0.95</td>\n",
       "      <td>0.13</td>\n",
       "      <td>[4.59765625, 6.078125, 3.427734375, -0.0347290...</td>\n",
       "      <td>[0.0481872559, 0.09619140620000001, 0.11627197...</td>\n",
       "      <td>[-0.022277832, 0.0033416748, 0.0491333008, 0.1...</td>\n",
       "      <td>[-0.0104675293, 0.0098571777, -0.0085220337, -...</td>\n",
       "      <td>RQ-3</td>\n",
       "      <td>None</td>\n",
       "      <td>GPT4 Correct User:System: |Power| |is_containe...</td>\n",
       "      <td>{'layer_0_head_0': [-0.0007815361, -0.00135040...</td>\n",
       "      <td>no</td>\n",
       "      <td>0.666667</td>\n",
       "      <td>0</td>\n",
       "    </tr>\n",
       "    <tr>\n",
       "      <th>230</th>\n",
       "      <td>GPT4 Correct User:System: |Power| |is_containe...</td>\n",
       "      <td>\\n\\n1. The system includes a Power subsystem w...</td>\n",
       "      <td>True</td>\n",
       "      <td>yes</td>\n",
       "      <td>0.79</td>\n",
       "      <td>0.15</td>\n",
       "      <td>[6.90625, 6.60546875, 3.244140625, 1.760742187...</td>\n",
       "      <td>[0.0264282227, 0.0681762695, 0.0713500977, 0.1...</td>\n",
       "      <td>[-0.0250244141, 0.0014038086, 0.0328369141, 0....</td>\n",
       "      <td>[-0.0126113892, -0.0134735107, -0.022644043000...</td>\n",
       "      <td>RQ-3</td>\n",
       "      <td>None</td>\n",
       "      <td>GPT4 Correct User:System: |Power| |is_containe...</td>\n",
       "      <td>{'layer_0_head_0': [-0.0022125244, -0.00146198...</td>\n",
       "      <td>no</td>\n",
       "      <td>0.666667</td>\n",
       "      <td>0</td>\n",
       "    </tr>\n",
       "  </tbody>\n",
       "</table>\n",
       "<p>174 rows × 17 columns</p>\n",
       "</div>"
      ],
      "text/plain": [
       "                                                prompt  \\\n",
       "11   GPT4 Correct User:System: |Structure, Shieldin...   \n",
       "12   GPT4 Correct User:System: |Structure, Shieldin...   \n",
       "13   GPT4 Correct User:System: |Structure, Shieldin...   \n",
       "14   GPT4 Correct User:System: |Structure, Shieldin...   \n",
       "15   GPT4 Correct User:System: |Structure, Shieldin...   \n",
       "..                                                 ...   \n",
       "226  GPT4 Correct User:System: |Power| |is_containe...   \n",
       "227  GPT4 Correct User:System: |Power| |is_containe...   \n",
       "228  GPT4 Correct User:System: |Power| |is_containe...   \n",
       "229  GPT4 Correct User:System: |Power| |is_containe...   \n",
       "230  GPT4 Correct User:System: |Power| |is_containe...   \n",
       "\n",
       "                                                output  final_answer predict  \\\n",
       "11   \\n\\n1. The Logical System directly contains th...          True     yes   \n",
       "12   \\n\\nThe requirement states that the settlement...         False      no   \n",
       "13   \\n\\n1. The settlement is described as a Logica...          True     yes   \n",
       "14   \\n\\n1. The System description mentions an \"Air...          True     yes   \n",
       "15   \\n\\n1. The system description mentions the \"St...          True     yes   \n",
       "..                                                 ...           ...     ...   \n",
       "226  \\n\\n1. The system contains \"Power\" as a compon...          True     yes   \n",
       "227  \\n\\n1. The system has a Power component that d...          True     yes   \n",
       "228  \\n\\n1. The System has a \"Power\" component that...          True     yes   \n",
       "229  \\n\\n1. The System describes a variety of loops...          True     yes   \n",
       "230  \\n\\n1. The system includes a Power subsystem w...          True     yes   \n",
       "\n",
       "     score  sequence_uncertainty  \\\n",
       "11    0.84                  0.16   \n",
       "12    0.79                  0.19   \n",
       "13    0.96                  0.19   \n",
       "14    0.93                  0.19   \n",
       "15    0.90                  0.21   \n",
       "..     ...                   ...   \n",
       "226   0.84                  0.17   \n",
       "227   0.87                  0.14   \n",
       "228   0.87                  0.15   \n",
       "229   0.95                  0.13   \n",
       "230   0.79                  0.15   \n",
       "\n",
       "                           hidden_states.-1_last_token  \\\n",
       "11   [4.6953125, 4.53125, 0.6303710938, 2.912109375...   \n",
       "12   [0.5971679688, 3.244140625, 1.2392578125, 0.00...   \n",
       "13   [4.19921875, 2.958984375, 1.822265625, 2.01953...   \n",
       "14   [4.94921875, 2.724609375, 1.4208984375, 1.8945...   \n",
       "15   [3.966796875, 3.07421875, 2.54296875, 2.138671...   \n",
       "..                                                 ...   \n",
       "226  [5.80859375, 7.08203125, 3.345703125, 2.226562...   \n",
       "227  [1.7353515625, 8.546875, 2.701171875, 1.263671...   \n",
       "228  [4.68359375, 6.81640625, 4.078125, 1.108398437...   \n",
       "229  [4.59765625, 6.078125, 3.427734375, -0.0347290...   \n",
       "230  [6.90625, 6.60546875, 3.244140625, 1.760742187...   \n",
       "\n",
       "                           hidden_states.-8_last_token  \\\n",
       "11   [0.0170898438, 0.0705566406, 0.094238281200000...   \n",
       "12   [-0.0775146484, 0.08056640620000001, 0.0192260...   \n",
       "13   [-0.0088500977, 0.0687255859, 0.126953125, 0.1...   \n",
       "14   [-0.0153808594, 0.0600280762, 0.0836181641, 0....   \n",
       "15   [0.0056152344, 0.0668334961, 0.1341552734, 0.2...   \n",
       "..                                                 ...   \n",
       "226  [0.043060302700000004, 0.0911865234, 0.1235351...   \n",
       "227  [-0.013244628900000001, 0.1046142578, 0.159667...   \n",
       "228  [0.022277832, 0.0944824219, 0.1033935547, 0.14...   \n",
       "229  [0.0481872559, 0.09619140620000001, 0.11627197...   \n",
       "230  [0.0264282227, 0.0681762695, 0.0713500977, 0.1...   \n",
       "\n",
       "                          hidden_states.-16_last_token  \\\n",
       "11   [0.0143737793, 0.0370483398, 0.0023880005, 0.0...   \n",
       "12   [-0.11169433590000001, 0.031097412100000003, -...   \n",
       "13   [0.0054321289, 0.0107727051, 0.0121994019, 0.0...   \n",
       "14   [-0.0078125, -0.0012817383, 0.0203857422, 0.07...   \n",
       "15   [0.00042724610000000003, 0.009307861300000001,...   \n",
       "..                                                 ...   \n",
       "226  [-0.018371582, -0.014526367200000001, 0.044921...   \n",
       "227  [-0.0228271484, -0.005340576200000001, 0.06732...   \n",
       "228  [-0.020324707, -0.001373291, 0.0390014648, 0.0...   \n",
       "229  [-0.022277832, 0.0033416748, 0.0491333008, 0.1...   \n",
       "230  [-0.0250244141, 0.0014038086, 0.0328369141, 0....   \n",
       "\n",
       "                          hidden_states.-24_last_token  req_id  \\\n",
       "11   [-0.0162353516, 0.0102996826, -0.0104675293, -...  RQ-8-3   \n",
       "12   [-0.0031986237, -0.0024681091, 0.0102233887, -...  RQ-8-3   \n",
       "13   [-0.0139846802, 0.0044174194, -0.0121612549, -...  RQ-8-3   \n",
       "14   [-0.0220336914, 0.0043983459, -0.0174255371, -...  RQ-8-3   \n",
       "15   [-0.0207061768, 0.010231018100000001, -0.01406...  RQ-8-3   \n",
       "..                                                 ...     ...   \n",
       "226  [-0.0155258179, 0.0016555786, -0.0198364258, -...    RQ-3   \n",
       "227  [-0.0103759766, 0.0142364502, -0.0192413330000...    RQ-3   \n",
       "228  [-0.0106811523, 0.0012512207, -0.0162506104, -...    RQ-3   \n",
       "229  [-0.0104675293, 0.0098571777, -0.0085220337, -...    RQ-3   \n",
       "230  [-0.0126113892, -0.0134735107, -0.022644043000...    RQ-3   \n",
       "\n",
       "                                           requirement  \\\n",
       "11   The settlement shall remove sufficient particl...   \n",
       "12   The settlement shall remove sufficient particl...   \n",
       "13   The settlement shall remove sufficient particl...   \n",
       "14   The settlement shall remove sufficient particl...   \n",
       "15   The settlement shall remove sufficient particl...   \n",
       "..                                                 ...   \n",
       "226  The settlement shall generate and store suffic...   \n",
       "227                                               None   \n",
       "228                                               None   \n",
       "229                                               None   \n",
       "230                                               None   \n",
       "\n",
       "                                       complete_inputs  \\\n",
       "11   GPT4 Correct User:System: |Structure, Shieldin...   \n",
       "12   GPT4 Correct User:System: |Structure, Shieldin...   \n",
       "13   GPT4 Correct User:System: |Structure, Shieldin...   \n",
       "14   GPT4 Correct User:System: |Structure, Shieldin...   \n",
       "15   GPT4 Correct User:System: |Structure, Shieldin...   \n",
       "..                                                 ...   \n",
       "226  GPT4 Correct User:System: |Power| |is_containe...   \n",
       "227  GPT4 Correct User:System: |Power| |is_containe...   \n",
       "228  GPT4 Correct User:System: |Power| |is_containe...   \n",
       "229  GPT4 Correct User:System: |Power| |is_containe...   \n",
       "230  GPT4 Correct User:System: |Power| |is_containe...   \n",
       "\n",
       "                                            attentions  \\\n",
       "11   {'layer_0_head_0': [-0.0001180172, -0.00097846...   \n",
       "12   {'layer_0_head_0': [-0.0013647079, -0.00147819...   \n",
       "13   {'layer_0_head_0': [-0.0007691383, -0.00194454...   \n",
       "14   {'layer_0_head_0': [-0.0002641678, -0.00202560...   \n",
       "15   {'layer_0_head_0': [-0.0010786057, -0.00123691...   \n",
       "..                                                 ...   \n",
       "226  {'layer_0_head_0': [-0.0008153915, -0.00226974...   \n",
       "227  {'layer_0_head_0': [-0.001698494, -0.002260208...   \n",
       "228  {'layer_0_head_0': [-0.0009388924, -0.00243568...   \n",
       "229  {'layer_0_head_0': [-0.0007815361, -0.00135040...   \n",
       "230  {'layer_0_head_0': [-0.0022125244, -0.00146198...   \n",
       "\n",
       "    majority_predict_openchat  uncertainty_openchat  correct  \n",
       "11                         no              1.000000        0  \n",
       "12                         no              1.000000        1  \n",
       "13                         no              1.000000        0  \n",
       "14                         no              1.000000        0  \n",
       "15                         no              1.000000        0  \n",
       "..                        ...                   ...      ...  \n",
       "226                        no              0.666667        0  \n",
       "227                        no              0.666667        0  \n",
       "228                        no              0.666667        0  \n",
       "229                        no              0.666667        0  \n",
       "230                        no              0.666667        0  \n",
       "\n",
       "[174 rows x 17 columns]"
      ]
     },
     "execution_count": 17,
     "metadata": {},
     "output_type": "execute_result"
    }
   ],
   "source": [
    "test_set"
   ]
  },
  {
   "cell_type": "code",
   "execution_count": 7,
   "metadata": {},
   "outputs": [
    {
     "data": {
      "text/plain": [
       "10"
      ]
     },
     "execution_count": 7,
     "metadata": {},
     "output_type": "execute_result"
    }
   ],
   "source": [
    "len(train_set_idxs)"
   ]
  },
  {
   "cell_type": "code",
   "execution_count": 20,
   "metadata": {},
   "outputs": [],
   "source": [
    "#separated_labels[val_set_idxs[5]]"
   ]
  },
  {
   "cell_type": "code",
   "execution_count": 19,
   "metadata": {},
   "outputs": [],
   "source": [
    "#separated_labels[train_set_idxs[6]]"
   ]
  },
  {
   "cell_type": "code",
   "execution_count": 8,
   "metadata": {},
   "outputs": [
    {
     "ename": "NameError",
     "evalue": "name 'val_set' is not defined",
     "output_type": "error",
     "traceback": [
      "\u001b[0;31m---------------------------------------------------------------------------\u001b[0m",
      "\u001b[0;31mNameError\u001b[0m                                 Traceback (most recent call last)",
      "Cell \u001b[0;32mIn[8], line 1\u001b[0m\n\u001b[0;32m----> 1\u001b[0m \u001b[43mval_set\u001b[49m\u001b[38;5;241m.\u001b[39mreq_id\u001b[38;5;241m.\u001b[39munique()\n",
      "\u001b[0;31mNameError\u001b[0m: name 'val_set' is not defined"
     ]
    }
   ],
   "source": [
    "val_set.req_id.unique()\n",
    "val_set[val_set.req_id==\"RQ-2-7\"]"
   ]
  },
  {
   "cell_type": "code",
   "execution_count": 24,
   "metadata": {},
   "outputs": [
    {
     "name": "stdout",
     "output_type": "stream",
     "text": [
      "No majority element\n",
      "No majority element\n",
      "39\n",
      "47\n"
     ]
    }
   ],
   "source": [
    "import numpy as np\n",
    "from collections import Counter\n",
    "\n",
    "def find_majority_counter(arr):\n",
    "    counter = Counter(arr)\n",
    "    most_common = counter.most_common(1)[0]  # Returns the most common element and its count\n",
    "    if most_common[1] > len(arr) / 2:\n",
    "        return most_common[0]\n",
    "    else:\n",
    "        print(\"No majority element\")\n",
    "        return 1\n",
    "\n",
    "# Example\n",
    "sum = 0\n",
    "total = 0\n",
    "for label_lst in train_set_idxs:\n",
    "    #print(find_majority_counter(separated_labels[label_lst]))\n",
    "    maj = find_majority_counter(separated_labels[label_lst])\n",
    "    sum += len([ele for ele in separated_labels[label_lst] if ele == maj])\n",
    "    total += len(separated_labels[label_lst])\n",
    "print(sum)\n",
    "print(total) \n",
    "\n"
   ]
  },
  {
   "cell_type": "code",
   "execution_count": 11,
   "metadata": {},
   "outputs": [],
   "source": [
    "from sklearn.metrics import accuracy_score, f1_score, precision_score, recall_score\n",
    "from sklearn.linear_model import LogisticRegression\n",
    "from tqdm.notebook import tqdm\n",
    "def train_probes(seed, train_set_idxs, val_set_idxs, separated_head_wise_activations, separated_labels, num_layers, num_heads):\n",
    "    \n",
    "    all_head_accs = []\n",
    "    probes = []\n",
    "    train_accs = []\n",
    "    all_X_train = np.concatenate([separated_head_wise_activations[i] for i in train_set_idxs], axis = 0)\n",
    "    print(all_X_train.shape)\n",
    "    all_X_val = np.concatenate([separated_head_wise_activations[i] for i in val_set_idxs], axis = 0)\n",
    "    y_train = np.concatenate([separated_labels[i] for i in train_set_idxs], axis = 0)\n",
    "    print(y_train.shape)\n",
    "    y_val = np.concatenate([separated_labels[i] for i in val_set_idxs], axis = 0)\n",
    "\n",
    "    for layer in tqdm(range(num_layers)): \n",
    "        for head in range(num_heads): \n",
    "            X_train = all_X_train[:,layer,head,:]\n",
    "            X_val = all_X_val[:,layer,head,:]\n",
    "    \n",
    "            clf = LogisticRegression(random_state=seed, max_iter=100).fit(X_train, y_train)\n",
    "\n",
    "            #if clf.converged_:\n",
    "             #   print(\"The model converged.\")\n",
    "            #else:\n",
    "             #   print(\"The model did not converge. You might need to increase max_iter or change the solver.\")\n",
    "            y_pred = clf.predict(X_train)\n",
    "            train_accs.append(accuracy_score(y_train, y_pred))\n",
    "            y_val_pred = clf.predict(X_val)\n",
    "            all_head_accs.append(accuracy_score(y_val, y_val_pred))\n",
    "\n",
    "            probes.append(clf)\n",
    "\n",
    "    all_head_accs_np = np.array(all_head_accs)\n",
    "    train_accs_np = np.array(train_accs)\n",
    "    return probes, all_head_accs_np, train_accs_np"
   ]
  },
  {
   "cell_type": "code",
   "execution_count": 12,
   "metadata": {},
   "outputs": [
    {
     "name": "stdout",
     "output_type": "stream",
     "text": [
      "(47, 32, 32, 128)\n",
      "(47,)\n"
     ]
    },
    {
     "data": {
      "application/vnd.jupyter.widget-view+json": {
       "model_id": "89b527670b1e40f592931bfcd23a489a",
       "version_major": 2,
       "version_minor": 0
      },
      "text/plain": [
       "  0%|          | 0/32 [00:00<?, ?it/s]"
      ]
     },
     "metadata": {},
     "output_type": "display_data"
    }
   ],
   "source": [
    "num_layers =32\n",
    "num_heads = 32\n",
    "seed = 182224\n",
    "rng = np.random.default_rng(seed)\n",
    "val_idxs = val_set_idxs\n",
    "probes, all_head_accs_np, train_accs = train_probes(seed, train_set_idxs, val_idxs, separated_activations, separated_labels, num_layers=num_layers, num_heads=num_heads)"
   ]
  },
  {
   "cell_type": "code",
   "execution_count": 9,
   "metadata": {},
   "outputs": [
    {
     "name": "stdout",
     "output_type": "stream",
     "text": [
      "1.3.2\n"
     ]
    }
   ],
   "source": [
    "import sklearn\n",
    "print(sklearn.__version__)"
   ]
  },
  {
   "cell_type": "code",
   "execution_count": 44,
   "metadata": {},
   "outputs": [
    {
     "data": {
      "text/plain": [
       "[(31, 14), (31, 7), (30, 0), (11, 17), (31, 20), (31, 28), (31, 5), (31, 22)]"
      ]
     },
     "execution_count": 44,
     "metadata": {},
     "output_type": "execute_result"
    }
   ],
   "source": [
    "top_heads = []\n",
    "\n",
    "def flattened_idx_to_layer_head(flattened_idx, num_heads):\n",
    "    return flattened_idx // num_heads, flattened_idx % num_heads\n",
    "num_to_intervene = 8\n",
    "\n",
    "top_accs = np.argsort(all_head_accs_np.reshape(num_heads*num_layers))[::-1][:num_to_intervene]\n",
    "#print(top_accs[0:5])\n",
    "top_heads = [flattened_idx_to_layer_head(idx, num_heads) for idx in top_accs]\n",
    "top_heads\n"
   ]
  },
  {
   "cell_type": "code",
   "execution_count": null,
   "metadata": {},
   "outputs": [],
   "source": []
  },
  {
   "cell_type": "code",
   "execution_count": 36,
   "metadata": {},
   "outputs": [],
   "source": [
    "np.sort(all_head_accs_np)[::-1][0:32]"
   ]
  },
  {
   "cell_type": "code",
   "execution_count": 42,
   "metadata": {},
   "outputs": [
    {
     "data": {
      "text/plain": [
       "array([0.9826087 , 0.97391304, 0.97391304, 0.96521739, 0.96521739,\n",
       "       0.95652174, 0.95652174, 0.93913043, 0.93913043, 0.93043478,\n",
       "       0.93043478, 0.92173913, 0.91304348, 0.91304348, 0.89565217,\n",
       "       0.89565217, 0.88695652, 0.88695652, 0.87826087, 0.87826087,\n",
       "       0.86956522, 0.86956522, 0.86956522, 0.85217391, 0.85217391,\n",
       "       0.84347826, 0.84347826, 0.84347826, 0.82608696, 0.82608696,\n",
       "       0.8       , 0.8       ])"
      ]
     },
     "execution_count": 42,
     "metadata": {},
     "output_type": "execute_result"
    }
   ],
   "source": [
    "np.sort(all_head_accs_np)[::-1][0:32]"
   ]
  },
  {
   "cell_type": "code",
   "execution_count": 31,
   "metadata": {},
   "outputs": [
    {
     "data": {
      "text/plain": [
       "array([1006,  416,  984, ...,  734,  691,  270])"
      ]
     },
     "execution_count": 31,
     "metadata": {},
     "output_type": "execute_result"
    }
   ],
   "source": [
    "np.argsort(all_head_accs_np.reshape(num_heads*num_layers))[::-1]"
   ]
  },
  {
   "cell_type": "code",
   "execution_count": 21,
   "metadata": {},
   "outputs": [
    {
     "data": {
      "text/plain": [
       "1.0"
      ]
     },
     "execution_count": 21,
     "metadata": {},
     "output_type": "execute_result"
    }
   ],
   "source": [
    "all_head_accs_np[1006]"
   ]
  },
  {
   "cell_type": "code",
   "execution_count": 24,
   "metadata": {},
   "outputs": [
    {
     "data": {
      "text/plain": [
       "1.0"
      ]
     },
     "execution_count": 24,
     "metadata": {},
     "output_type": "execute_result"
    }
   ],
   "source": [
    "all_head_accs_np[449]"
   ]
  },
  {
   "cell_type": "code",
   "execution_count": 19,
   "metadata": {},
   "outputs": [
    {
     "data": {
      "text/plain": [
       "array([1006,  416,  984,  449])"
      ]
     },
     "execution_count": 19,
     "metadata": {},
     "output_type": "execute_result"
    }
   ],
   "source": [
    "top_accs"
   ]
  },
  {
   "cell_type": "code",
   "execution_count": 11,
   "metadata": {},
   "outputs": [
    {
     "data": {
      "text/plain": [
       "array([1, 1, 1, 1, 1, 1])"
      ]
     },
     "execution_count": 11,
     "metadata": {},
     "output_type": "execute_result"
    }
   ],
   "source": [
    "test = separated_activations[val_set_idxs[2]][:,-1,-1,:]\n",
    "probes[-1].predict(test)"
   ]
  },
  {
   "cell_type": "code",
   "execution_count": 46,
   "metadata": {},
   "outputs": [
    {
     "data": {
      "text/plain": [
       "array([0, 1, 1, 0, 1])"
      ]
     },
     "execution_count": 46,
     "metadata": {},
     "output_type": "execute_result"
    }
   ],
   "source": [
    "test = separated_activations[train_set_idxs[2]][:,-1,-1,:]\n",
    "probes[-1].predict(test)"
   ]
  },
  {
   "cell_type": "code",
   "execution_count": 47,
   "metadata": {},
   "outputs": [
    {
     "data": {
      "text/plain": [
       "[0, 1, 0, 0, 1]"
      ]
     },
     "execution_count": 47,
     "metadata": {},
     "output_type": "execute_result"
    }
   ],
   "source": [
    "separated_labels[train_set_idxs[2]]"
   ]
  },
  {
   "cell_type": "code",
   "execution_count": 41,
   "metadata": {},
   "outputs": [
    {
     "data": {
      "text/plain": [
       "[1, 0, 0, 1, 1]"
      ]
     },
     "execution_count": 41,
     "metadata": {},
     "output_type": "execute_result"
    }
   ],
   "source": [
    "separated_labels[val_set_idxs[2]]"
   ]
  },
  {
   "cell_type": "code",
   "execution_count": 29,
   "metadata": {},
   "outputs": [],
   "source": [
    "# import matplotlib.pyplot as plt\n",
    "# import numpy as np\n",
    "\n",
    "# # Assuming 'data' is your 32x32 dataset\n",
    "# # Replace this with your actual data matrix\n",
    "# data = train_accs.reshape(32,32) # np.random.rand(32, 32)  # Example data\n",
    "\n",
    "# plt.figure(figsize=(8, 8))\n",
    "# plt.imshow(data, cmap='viridis', interpolation='nearest')\n",
    "# plt.colorbar(label='Density')\n",
    "\n",
    "# plt.title('Density Square Plot')\n",
    "# plt.xlabel('Column Index')\n",
    "# plt.ylabel('Row Index')\n",
    "\n",
    "# plt.show()"
   ]
  },
  {
   "cell_type": "code",
   "execution_count": 53,
   "metadata": {},
   "outputs": [
    {
     "data": {
      "image/png": "[encoded data removed]",
      "text/plain": [
       "<Figure size 800x800 with 2 Axes>"
      ]
     },
     "metadata": {},
     "output_type": "display_data"
    }
   ],
   "source": [
    "import matplotlib.pyplot as plt\n",
    "import numpy as np\n",
    "\n",
    "# Assuming 'data' is your 32x32 dataset\n",
    "# Replace this with your actual data matrix\n",
    "data = train_accs.reshape(32,32) # np.random.rand(32, 32)  # Example data\n",
    "\n",
    "plt.figure(figsize=(8, 8))\n",
    "plt.imshow(data, cmap='viridis', interpolation='nearest')\n",
    "plt.colorbar(label='Density')\n",
    "\n",
    "plt.title('Density Square Plot')\n",
    "plt.xlabel('Column Index')\n",
    "plt.ylabel('Row Index')\n",
    "\n",
    "plt.show()"
   ]
  },
  {
   "cell_type": "code",
   "execution_count": 12,
   "metadata": {},
   "outputs": [
    {
     "data": {
      "image/png": "[encoded data removed]",
      "text/plain": [
       "<Figure size 800x800 with 2 Axes>"
      ]
     },
     "metadata": {},
     "output_type": "display_data"
    }
   ],
   "source": [
    "import matplotlib.pyplot as plt\n",
    "import numpy as np\n",
    "\n",
    "# Assuming 'data' is your 32x32 dataset\n",
    "# Replace this with your actual data matrix\n",
    "data = train_accs.reshape(32,32) # np.random.rand(32, 32)  # Example data\n",
    "\n",
    "plt.figure(figsize=(8, 8))\n",
    "plt.imshow(data, cmap='viridis', interpolation='nearest')\n",
    "plt.colorbar(label='Density')\n",
    "\n",
    "plt.title('Density Square Plot')\n",
    "plt.xlabel('Column Index')\n",
    "plt.ylabel('Row Index')\n",
    "\n",
    "plt.show()"
   ]
  },
  {
   "cell_type": "code",
   "execution_count": 61,
   "metadata": {},
   "outputs": [
    {
     "data": {
      "text/plain": [
       "49"
      ]
     },
     "execution_count": 61,
     "metadata": {},
     "output_type": "execute_result"
    }
   ],
   "source": [
    "len([acc for acc in train_accs if acc>0.90])"
   ]
  },
  {
   "cell_type": "code",
   "execution_count": null,
   "metadata": {},
   "outputs": [],
   "source": [
    "# # get two folds using numpy\n",
    "# import numpy as np\n",
    "# num_fold = 2\n",
    "# index_dic = {\"req-1\": \"\" ,\"req-2\": \"\", \"req-3\": \"\", \"req-4\": \"\", \"req-5\": \"\", \"req-6\": \"\", \"req-7\": \"\"}\n",
    "# fold_idxs = np.array_split(np.arange(len(list(index_dic.keys()))), num_fold)\n",
    "# print(fold_idxs)\n",
    "# for i in range(num_fold):\n",
    "#     print(i)\n",
    "#     print(fold_idxs[i])\n",
    "#     train_idxs = np.concatenate([fold_idxs[j] for j in range(num_fold) if j != i])"
   ]
  },
  {
   "cell_type": "code",
   "execution_count": 63,
   "metadata": {},
   "outputs": [
    {
     "data": {
      "text/plain": [
       "77"
      ]
     },
     "execution_count": 63,
     "metadata": {},
     "output_type": "execute_result"
    }
   ],
   "source": [
    "len([acc for acc in all_head_accs_np if acc>0.95])"
   ]
  },
  {
   "cell_type": "code",
   "execution_count": 13,
   "metadata": {},
   "outputs": [
    {
     "data": {
      "image/png": "[encoded data removed]",
      "text/plain": [
       "<Figure size 800x800 with 2 Axes>"
      ]
     },
     "metadata": {},
     "output_type": "display_data"
    }
   ],
   "source": [
    "import matplotlib.pyplot as plt\n",
    "import numpy as np\n",
    "\n",
    "# Assuming 'data' is your 32x32 dataset\n",
    "# Replace this with your actual data matrix\n",
    "data = all_head_accs_np.reshape(32,32) # np.random.rand(32, 32)  # Example data\n",
    "\n",
    "plt.figure(figsize=(8, 8))\n",
    "plt.imshow(data, cmap='viridis', interpolation='nearest')\n",
    "plt.colorbar(label='Density')\n",
    "\n",
    "plt.title('Density Square Plot')\n",
    "plt.xlabel('Column Index')\n",
    "plt.ylabel('Row Index')\n",
    "\n",
    "plt.show()"
   ]
  },
  {
   "cell_type": "code",
   "execution_count": 18,
   "metadata": {},
   "outputs": [
    {
     "data": {
      "image/png": "[encoded data removed]",
      "text/plain": [
       "<Figure size 800x800 with 2 Axes>"
      ]
     },
     "metadata": {},
     "output_type": "display_data"
    }
   ],
   "source": [
    "import matplotlib.pyplot as plt\n",
    "import numpy as np\n",
    "\n",
    "# Assuming 'data' is your 32x32 dataset\n",
    "# Replace this with your actual data matrix\n",
    "data = all_head_accs_np.reshape(32,32) # np.random.rand(32, 32)  # Example data\n",
    "\n",
    "plt.figure(figsize=(8, 8))\n",
    "plt.imshow(data, cmap='viridis', interpolation='nearest')\n",
    "plt.colorbar(label='Density')\n",
    "\n",
    "plt.title('Density Square Plot')\n",
    "plt.xlabel('Column Index')\n",
    "plt.ylabel('Row Index')\n",
    "\n",
    "plt.show()"
   ]
  },
  {
   "cell_type": "code",
   "execution_count": 15,
   "metadata": {},
   "outputs": [
    {
     "data": {
      "image/png": "[encoded data removed]",
      "text/plain": [
       "<Figure size 800x800 with 2 Axes>"
      ]
     },
     "metadata": {},
     "output_type": "display_data"
    }
   ],
   "source": [
    "import matplotlib.pyplot as plt\n",
    "import numpy as np\n",
    "\n",
    "# Assuming 'data' is your 32x32 dataset\n",
    "# Replace this with your actual data matrix\n",
    "data = all_head_accs_np.reshape(32,32) # np.random.rand(32, 32)  # Example data\n",
    "\n",
    "plt.figure(figsize=(8, 8))\n",
    "plt.imshow(data, cmap='viridis', interpolation='nearest')\n",
    "plt.colorbar(label='Density')\n",
    "\n",
    "plt.title('Density Square Plot')\n",
    "plt.xlabel('Column Index')\n",
    "plt.ylabel('Row Index')\n",
    "\n",
    "plt.show()"
   ]
  },
  {
   "cell_type": "code",
   "execution_count": 211,
   "metadata": {},
   "outputs": [
    {
     "data": {
      "image/png": "[encoded data removed]",
      "text/plain": [
       "<Figure size 800x800 with 2 Axes>"
      ]
     },
     "metadata": {},
     "output_type": "display_data"
    }
   ],
   "source": [
    "import matplotlib.pyplot as plt\n",
    "import numpy as np\n",
    "\n",
    "# Assuming 'data' is your 32x32 dataset\n",
    "# Replace this with your actual data matrix\n",
    "data = all_head_accs_np.reshape(32,32) # np.random.rand(32, 32)  # Example data\n",
    "\n",
    "plt.figure(figsize=(8, 8))\n",
    "plt.imshow(data, cmap='viridis', interpolation='nearest')\n",
    "plt.colorbar(label='Density')\n",
    "\n",
    "plt.title('Density Square Plot')\n",
    "plt.xlabel('Column Index')\n",
    "plt.ylabel('Row Index')\n",
    "\n",
    "plt.show()"
   ]
  },
  {
   "cell_type": "code",
   "execution_count": 204,
   "metadata": {},
   "outputs": [
    {
     "data": {
      "text/plain": [
       "0.5925925925925926"
      ]
     },
     "execution_count": 204,
     "metadata": {},
     "output_type": "execute_result"
    }
   ],
   "source": [
    "16/27"
   ]
  },
  {
   "cell_type": "code",
   "execution_count": 192,
   "metadata": {},
   "outputs": [],
   "source": [
    "#separated_labels[val_set_idxs[4]]"
   ]
  },
  {
   "cell_type": "code",
   "execution_count": null,
   "metadata": {},
   "outputs": [],
   "source": []
  },
  {
   "cell_type": "code",
   "execution_count": 193,
   "metadata": {},
   "outputs": [],
   "source": [
    "#separated_labels[train_set_idxs[5]]"
   ]
  },
  {
   "cell_type": "code",
   "execution_count": 207,
   "metadata": {},
   "outputs": [
    {
     "data": {
      "text/plain": [
       "array(['RQ-8-3', 'RQ-2-2', 'RQ-2-5', 'RQ-8-6', 'RQ-8-7', 'RQ-2-7'],\n",
       "      dtype=object)"
      ]
     },
     "execution_count": 207,
     "metadata": {},
     "output_type": "execute_result"
    }
   ],
   "source": [
    "val_set.req_id.unique()"
   ]
  },
  {
   "cell_type": "code",
   "execution_count": 152,
   "metadata": {},
   "outputs": [
    {
     "data": {
      "text/plain": [
       "array([1, 0, 0, 1, 0, 1, 0, 1, 0, 1, 0, 0, 1, 1, 0, 0, 1, 1, 0, 0, 1, 1,\n",
       "       0, 0, 1, 0, 0])"
      ]
     },
     "execution_count": 152,
     "metadata": {},
     "output_type": "execute_result"
    }
   ],
   "source": [
    "train_labels = np.concatenate([separated_labels[i] for i in train_set_idxs], axis = 0)\n",
    "#train_labels.sum()/ train_labels.shape[0]\n",
    "train_labels"
   ]
  },
  {
   "cell_type": "code",
   "execution_count": 9,
   "metadata": {},
   "outputs": [],
   "source": [
    "from sklearn.metrics import recall_score, precision_score\n",
    "\n",
    "def get_precision_recall(df):\n",
    "\n",
    "    df_openchat = df\n",
    "    predict_openchat = generate_majority_predictions(df_openchat)\n",
    "\n",
    "    df_gpt4 = pd.read_json(\"results_gpt4_cot_moon_complete.json\")\n",
    "    predict_gpt4 = generate_majority_predictions(df_gpt4)\n",
    "\n",
    "    # Merge the DataFrames on the 'req_id' column\n",
    "    merged_df = pd.merge(predict_gpt4, predict_openchat, on='req_id', suffixes=('_gpt4', '_openchat'))\n",
    "\n",
    "    # Compare the values in the 'majority_predict' column\n",
    "    merged_df['is_same'] = merged_df['majority_predict_gpt4'] == merged_df['majority_predict_openchat']\n",
    "    merged_df.head(5)\n",
    "\n",
    "    df = merged_df\n",
    "    df = df[df['uncertainty_openchat'] > 0.5]\n",
    "    df['majority_predict_openchat'] = df['majority_predict_openchat'].apply(lambda x: 1 if x == \"yes\" else 0)\n",
    "    df['majority_predict_gpt4'] = df['majority_predict_gpt4'].apply(lambda x: 1 if x == \"yes\" else 0)\n",
    "\n",
    "    precision = precision_score(df['majority_predict_gpt4'], df['majority_predict_openchat'])\n",
    "\n",
    "    recall = recall_score(df['majority_predict_gpt4'], df['majority_predict_openchat'])\n",
    "\n",
    "    return precision, recall"
   ]
  },
  {
   "cell_type": "code",
   "execution_count": 57,
   "metadata": {},
   "outputs": [],
   "source": [
    "#df "
   ]
  },
  {
   "cell_type": "code",
   "execution_count": 68,
   "metadata": {},
   "outputs": [
    {
     "data": {
      "text/plain": [
       "1.0"
      ]
     },
     "execution_count": 68,
     "metadata": {},
     "output_type": "execute_result"
    }
   ],
   "source": [
    "from sklearn.metrics import recall_score, precision_score\n",
    "\n",
    "recall = recall_score(df['majority_predict_gpt4'], df['majority_predict_openchat'])\n",
    "recall"
   ]
  },
  {
   "cell_type": "code",
   "execution_count": 44,
   "metadata": {},
   "outputs": [],
   "source": [
    "#df['majority_predict_gpt4']#.values()"
   ]
  },
  {
   "cell_type": "code",
   "execution_count": 72,
   "metadata": {},
   "outputs": [
    {
     "data": {
      "text/plain": [
       "0.36363636363636365"
      ]
     },
     "execution_count": 72,
     "metadata": {},
     "output_type": "execute_result"
    }
   ],
   "source": [
    "df.head(1)\n",
    "len(df[(df['majority_predict_gpt4'] == 1) & (df['is_same'] == True)]) / len(df[df['majority_predict_openchat'] == 1])"
   ]
  },
  {
   "cell_type": "code",
   "execution_count": null,
   "metadata": {},
   "outputs": [],
   "source": [
    "#df.head(1)\n",
    "len(df[(df['majority_predict_gpt4'] == 1) & (df['is_same'] == True)]) / len(df[df['majority_predict_openchat'] == 1])"
   ]
  },
  {
   "cell_type": "code",
   "execution_count": 69,
   "metadata": {},
   "outputs": [
    {
     "data": {
      "text/plain": [
       "0.36363636363636365"
      ]
     },
     "execution_count": 69,
     "metadata": {},
     "output_type": "execute_result"
    }
   ],
   "source": [
    "precision = precision_score(df['majority_predict_gpt4'], df['majority_predict_openchat'])\n",
    "precision"
   ]
  },
  {
   "cell_type": "code",
   "execution_count": null,
   "metadata": {},
   "outputs": [],
   "source": [
    "precision = len(df[(df.final_answer == True) & (df.correct == True)]) / len(df[df.final_answer == True])\n"
   ]
  },
  {
   "cell_type": "code",
   "execution_count": 60,
   "metadata": {},
   "outputs": [],
   "source": [
    "precision = len(df[(df.final_answer == True) & (df.correct == True)]) / len(df[df.final_answer == True])\n",
    "# precision "
   ]
  },
  {
   "cell_type": "code",
   "execution_count": 19,
   "metadata": {},
   "outputs": [
    {
     "data": {
      "text/plain": [
       "26"
      ]
     },
     "execution_count": 19,
     "metadata": {},
     "output_type": "execute_result"
    }
   ],
   "source": [
    "len(df[(df.final_answer == True) & (df.correct == True)])"
   ]
  },
  {
   "cell_type": "code",
   "execution_count": 17,
   "metadata": {},
   "outputs": [
    {
     "data": {
      "text/plain": [
       "0.7222222222222222"
      ]
     },
     "execution_count": 17,
     "metadata": {},
     "output_type": "execute_result"
    }
   ],
   "source": [
    "recall = len(df[(df.final_answer == True) & (df.correct == True)]) / (len(df[(df.final_answer == True) & (df.correct == True)]) + len(df[(df.final_answer == False) & (df.correct == False)]))\n",
    "recall #['score'].mean()"
   ]
  },
  {
   "cell_type": "code",
   "execution_count": 18,
   "metadata": {},
   "outputs": [
    {
     "data": {
      "text/plain": [
       "0.46153846153846156"
      ]
     },
     "execution_count": 18,
     "metadata": {},
     "output_type": "execute_result"
    }
   ],
   "source": [
    "df_openchat = pd.read_json(\"dataframe_open_chat_cot_moon_18012024_attentions.json\")\n",
    "predict_openchat = generate_majority_predictions(df_openchat)\n",
    "\n",
    "df_gpt4 = pd.read_json(\"results_gpt4_cot_moon_complete.json\")\n",
    "predict_gpt4 = generate_majority_predictions(df_gpt4)\n",
    "\n",
    "# Merge the DataFrames on the 'req_id' column\n",
    "merged_df = pd.merge(predict_gpt4, predict_openchat, on='req_id', suffixes=('_gpt4', '_openchat'))\n",
    "\n",
    "# Compare the values in the 'majority_predict' column\n",
    "merged_df['is_same'] = merged_df['majority_predict_gpt4'] == merged_df['majority_predict_openchat']\n",
    "merged_df.head(5)\n",
    "\n",
    "df1 = df_openchat\n",
    "df2 = merged_df\n",
    "key = \"req_id\"\n",
    "# Merging df1 with a column (value2) from df2 using 'key' as the common column\n",
    "df = df1.merge(df2[[key, 'majority_predict_openchat',\"uncertainty_openchat\",'is_same']], on=key, how='left')\n",
    "df = df.rename(columns={'is_same':'correct'})\n",
    "df = df[df['uncertainty_openchat'] > 0.5]\n",
    "precision = len(df[(df.final_answer == True) & (df.correct == True)]) / (len(df[(df.final_answer == True) & (df.correct == True)]) + len(df[(df.final_answer == True) & (df.correct == False)]))\n",
    "precision #['score'].mean()"
   ]
  },
  {
   "cell_type": "code",
   "execution_count": 8,
   "metadata": {},
   "outputs": [],
   "source": [
    "\n",
    "# for out in df[(df['score'] == \"undefined\")].output.values:\n",
    "#     print(\"___________________\")\n",
    "#     print(out )"
   ]
  },
  {
   "cell_type": "code",
   "execution_count": 7,
   "metadata": {},
   "outputs": [],
   "source": [
    "# for out in df[(df['predict']== \"undefined\")].output.values: \n",
    "\n",
    "#     print(\"___________________\")\n",
    "#     print(out )"
   ]
  },
  {
   "cell_type": "code",
   "execution_count": 176,
   "metadata": {},
   "outputs": [],
   "source": [
    "#df[(df.final_answer == True) & (df.correct == True)].head(3)"
   ]
  },
  {
   "cell_type": "code",
   "execution_count": 9,
   "metadata": {},
   "outputs": [],
   "source": [
    "#df[(df.final_answer == True) & (df.correct == False)].head(3)"
   ]
  },
  {
   "cell_type": "code",
   "execution_count": 37,
   "metadata": {},
   "outputs": [
    {
     "data": {
      "text/plain": [
       "RangeIndex(start=0, stop=81, step=1)"
      ]
     },
     "execution_count": 37,
     "metadata": {},
     "output_type": "execute_result"
    }
   ],
   "source": [
    "df.index"
   ]
  },
  {
   "cell_type": "code",
   "execution_count": 20,
   "metadata": {},
   "outputs": [],
   "source": [
    "#df[df['req_id'] == req_id]#.index"
   ]
  },
  {
   "cell_type": "code",
   "execution_count": 70,
   "metadata": {},
   "outputs": [
    {
     "data": {
      "text/plain": [
       "1024"
      ]
     },
     "execution_count": 70,
     "metadata": {},
     "output_type": "execute_result"
    }
   ],
   "source": [
    "len(activations.values[0].keys())"
   ]
  },
  {
   "cell_type": "code",
   "execution_count": 79,
   "metadata": {},
   "outputs": [],
   "source": [
    "#list(activations.values[0].values())#[0:5]"
   ]
  },
  {
   "cell_type": "code",
   "execution_count": 116,
   "metadata": {},
   "outputs": [],
   "source": [
    "activations = np.array([list(sample.values()) for sample in temp_activations.values])#.shape\n",
    "batch_length = len(temp_activations)\n",
    "dim = 128\n",
    "activations = np.reshape(activations, (batch_length, 32, 32, dim))"
   ]
  },
  {
   "cell_type": "code",
   "execution_count": 118,
   "metadata": {},
   "outputs": [
    {
     "data": {
      "text/plain": [
       "(5, 32, 32, 128)"
      ]
     },
     "execution_count": 118,
     "metadata": {},
     "output_type": "execute_result"
    }
   ],
   "source": [
    "activations.shape"
   ]
  },
  {
   "cell_type": "code",
   "execution_count": 113,
   "metadata": {},
   "outputs": [
    {
     "data": {
      "text/plain": [
       "5"
      ]
     },
     "execution_count": 113,
     "metadata": {},
     "output_type": "execute_result"
    }
   ],
   "source": [
    "len(temp_activations.values)"
   ]
  },
  {
   "cell_type": "code",
   "execution_count": 108,
   "metadata": {},
   "outputs": [],
   "source": [
    "#temp_activations.values[0]['layer_0_head_0'][0:5]"
   ]
  },
  {
   "cell_type": "code",
   "execution_count": 106,
   "metadata": {},
   "outputs": [
    {
     "data": {
      "text/plain": [
       "array([ 0.03457642, -0.01705933,  0.01655579, -0.01773071, -0.06921387])"
      ]
     },
     "execution_count": 106,
     "metadata": {},
     "output_type": "execute_result"
    }
   ],
   "source": [
    "activations[21][10][0:5]#.shape"
   ]
  },
  {
   "cell_type": "code",
   "execution_count": 178,
   "metadata": {},
   "outputs": [],
   "source": [
    "# temp_activations.values[0]['layer_21_head_10'][0:5]"
   ]
  },
  {
   "cell_type": "code",
   "execution_count": 93,
   "metadata": {},
   "outputs": [],
   "source": [
    "# activations"
   ]
  },
  {
   "cell_type": "code",
   "execution_count": 120,
   "metadata": {},
   "outputs": [],
   "source": [
    "#activations = np.reshape(activations, (32, 32))\n",
    "\n",
    "\n",
    "#activations.shape"
   ]
  },
  {
   "cell_type": "code",
   "execution_count": 127,
   "metadata": {},
   "outputs": [],
   "source": [
    "#temp_labels"
   ]
  },
  {
   "cell_type": "code",
   "execution_count": 5,
   "metadata": {},
   "outputs": [],
   "source": [
    "import numpy as np\n",
    "\n",
    "#req_ids = []\n",
    "index_dic = {}\n",
    "separated_activations = []\n",
    "separated_labels = []\n",
    "\n",
    "for req_id in df['req_id'].unique():\n",
    "\n",
    "    req_df = df[df['req_id'] == req_id].index\n",
    "\n",
    "    #req_ids.append(req_df)\n",
    "    index_dic[req_id] = list(req_df)\n",
    "    \n",
    "    temp_activations = df[df['req_id'] == req_id].attentions\n",
    "    activations = np.array([list(sample.values()) for sample in temp_activations.values])#.shape\n",
    "    batch_length = len(temp_activations)\n",
    "    dim = 128\n",
    "    activations = np.reshape(activations, (batch_length, 32, 32, dim))\n",
    "\n",
    "    temp_labels =[1 if label==True else 0 for label in df[df['req_id'] == req_id]['correct'].values]\n",
    "    separated_labels.append(temp_labels)\n",
    "    separated_activations.append(activations)\n",
    "    \n",
    "#index_dic\n",
    "#separated_activations   \n",
    "#len(labels)"
   ]
  },
  {
   "cell_type": "code",
   "execution_count": 7,
   "metadata": {},
   "outputs": [],
   "source": [
    "from dataclasses import dataclass\n",
    "\n",
    "@dataclass\n",
    "class Args:\n",
    "    #model_name: str\n",
    "    #dataset_name: str\n",
    "    #activations_dataset: str\n",
    "    val_ratio: float\n",
    "\n",
    "args = Args(val_ratio=0.5)\n",
    "\n",
    "import numpy as np\n",
    "\n",
    "train_idxs = np.arange(len(list(index_dic.keys())))\n",
    "# Create a random generator with a specific seed\n",
    "seed = 42  # You can choose your own seed value\n",
    "rng = np.random.default_rng(seed)\n",
    "size = int(len(train_idxs)*(1-args.val_ratio))\n",
    "print(size)\n",
    "train_set_idxs = rng.choice(train_idxs, size=size, replace=False)\n",
    "val_set_idxs = np.array([x for x in train_idxs if x not in train_set_idxs])\n",
    "\n",
    "# pick a val set using numpy\n",
    "#train_set_idxs = np.random.choice(train_idxs, size=int(len(train_idxs)*(1-args.val_ratio)), replace=False)\n",
    "#val_set_idxs = np.array([x for x in train_idxs if x not in train_set_idxs])\n",
    "len(val_set_idxs)"
   ]
  },
  {
   "cell_type": "code",
   "execution_count": 9,
   "metadata": {},
   "outputs": [
    {
     "data": {
      "text/plain": [
       "array([ 1,  2,  3,  7,  8, 10, 12])"
      ]
     },
     "execution_count": 9,
     "metadata": {},
     "output_type": "execute_result"
    }
   ],
   "source": [
    "val_set_idxs"
   ]
  },
  {
   "cell_type": "code",
   "execution_count": 13,
   "metadata": {},
   "outputs": [
    {
     "data": {
      "text/plain": [
       "array([ 4,  5,  6,  7,  8,  9, 10, 11, 12, 13, 14, 15, 16, 32, 33, 34, 35,\n",
       "       36, 37, 38, 44, 45, 46, 50, 51, 52])"
      ]
     },
     "execution_count": 13,
     "metadata": {},
     "output_type": "execute_result"
    }
   ],
   "source": [
    "indexes = np.concatenate([list(index_dic.values())[i] for i in val_set_idxs], axis = 0)\n",
    "indexes"
   ]
  },
  {
   "cell_type": "code",
   "execution_count": 15,
   "metadata": {},
   "outputs": [
    {
     "data": {
      "text/html": [
       "<div>\n",
       "<style scoped>\n",
       "    .dataframe tbody tr th:only-of-type {\n",
       "        vertical-align: middle;\n",
       "    }\n",
       "\n",
       "    .dataframe tbody tr th {\n",
       "        vertical-align: top;\n",
       "    }\n",
       "\n",
       "    .dataframe thead th {\n",
       "        text-align: right;\n",
       "    }\n",
       "</style>\n",
       "<table border=\"1\" class=\"dataframe\">\n",
       "  <thead>\n",
       "    <tr style=\"text-align: right;\">\n",
       "      <th></th>\n",
       "      <th>prompt</th>\n",
       "      <th>output</th>\n",
       "      <th>final_answer</th>\n",
       "      <th>predict</th>\n",
       "      <th>score</th>\n",
       "      <th>sequence_uncertainty</th>\n",
       "      <th>hidden_states.-1_last_token</th>\n",
       "      <th>hidden_states.-8_last_token</th>\n",
       "      <th>hidden_states.-16_last_token</th>\n",
       "      <th>hidden_states.-24_last_token</th>\n",
       "      <th>req_id</th>\n",
       "      <th>requirement</th>\n",
       "      <th>complete_inputs</th>\n",
       "      <th>attentions</th>\n",
       "      <th>majority_predict_openchat</th>\n",
       "      <th>uncertainty_openchat</th>\n",
       "      <th>correct</th>\n",
       "    </tr>\n",
       "  </thead>\n",
       "  <tbody>\n",
       "    <tr>\n",
       "      <th>4</th>\n",
       "      <td>GPT4 Correct User:System: |Structure, Shieldin...</td>\n",
       "      <td>\\n\\n1. The \"Logical System\" is a component of ...</td>\n",
       "      <td>True</td>\n",
       "      <td>yes</td>\n",
       "      <td>0.91</td>\n",
       "      <td>0.13</td>\n",
       "      <td>[3.9140625, 3.478515625, 0.5551757812, 1.85351...</td>\n",
       "      <td>[0.0048217773, 0.0640258789, 0.0997924805, 0.1...</td>\n",
       "      <td>[-0.0059204102, 0.0032958984, 0.03271484380000...</td>\n",
       "      <td>[-0.0165252686, 0.016494751000000002, -0.01963...</td>\n",
       "      <td>RQ-8-3</td>\n",
       "      <td>The settlement shall remove sufficient particl...</td>\n",
       "      <td>GPT4 Correct User:System: |Structure, Shieldin...</td>\n",
       "      <td>{'layer_0_head_0': [-0.0016679764, -0.00129413...</td>\n",
       "      <td>yes</td>\n",
       "      <td>0.800000</td>\n",
       "      <td>False</td>\n",
       "    </tr>\n",
       "    <tr>\n",
       "      <th>5</th>\n",
       "      <td>GPT4 Correct User:System: |Structure, Shieldin...</td>\n",
       "      <td>\\n\\n1. The System describes the structure, shi...</td>\n",
       "      <td>True</td>\n",
       "      <td>yes</td>\n",
       "      <td>0.95</td>\n",
       "      <td>0.14</td>\n",
       "      <td>[3.609375, 3.626953125, 2.060546875, 1.7695312...</td>\n",
       "      <td>[-0.0025634766, 0.0680541992, 0.1242675781, 0....</td>\n",
       "      <td>[-0.0099487305, 0.0057067871, 0.0256347656, 0....</td>\n",
       "      <td>[-0.0198669434, 0.0048789978, -0.0099945068, -...</td>\n",
       "      <td>RQ-8-3</td>\n",
       "      <td>The settlement shall remove sufficient particl...</td>\n",
       "      <td>GPT4 Correct User:System: |Structure, Shieldin...</td>\n",
       "      <td>{'layer_0_head_0': [-0.0022544861, -0.00114536...</td>\n",
       "      <td>yes</td>\n",
       "      <td>0.800000</td>\n",
       "      <td>False</td>\n",
       "    </tr>\n",
       "    <tr>\n",
       "      <th>6</th>\n",
       "      <td>GPT4 Correct User:System: |Structure, Shieldin...</td>\n",
       "      <td>\\n\\n1. The settlement consists of multiple sub...</td>\n",
       "      <td>True</td>\n",
       "      <td>yes</td>\n",
       "      <td>0.94</td>\n",
       "      <td>0.13</td>\n",
       "      <td>[4.25, 4.08203125, 1.16796875, 1.79296875, 4.2...</td>\n",
       "      <td>[0.0152893066, 0.0825805664, 0.1143798828, 0.1...</td>\n",
       "      <td>[0.0092163086, 0.0173950195, 0.029327392600000...</td>\n",
       "      <td>[-0.0111923218, 0.013832092300000001, -0.01602...</td>\n",
       "      <td>RQ-8-3</td>\n",
       "      <td>The settlement shall remove sufficient particl...</td>\n",
       "      <td>GPT4 Correct User:System: |Structure, Shieldin...</td>\n",
       "      <td>{'layer_0_head_0': [-0.0017986298, -0.00088310...</td>\n",
       "      <td>yes</td>\n",
       "      <td>0.800000</td>\n",
       "      <td>False</td>\n",
       "    </tr>\n",
       "    <tr>\n",
       "      <th>7</th>\n",
       "      <td>GPT4 Correct User:System: |Structure, Shieldin...</td>\n",
       "      <td>\\n\\n1. The settlement's structure includes Shi...</td>\n",
       "      <td>True</td>\n",
       "      <td>yes</td>\n",
       "      <td>0.88</td>\n",
       "      <td>0.18</td>\n",
       "      <td>[5.37890625, 6.77734375, 4.546875, -0.41503906...</td>\n",
       "      <td>[0.0649414062, 0.1099243164, 0.2034912109, 0.0...</td>\n",
       "      <td>[-0.019287109400000002, 0.0046615601, 0.068176...</td>\n",
       "      <td>[-0.0228881836, -0.0026245117, -0.0243530273, ...</td>\n",
       "      <td>RQ-8-3</td>\n",
       "      <td>The settlement shall have at least 70% efficie...</td>\n",
       "      <td>GPT4 Correct User:System: |Structure, Shieldin...</td>\n",
       "      <td>{'layer_0_head_0': [-0.0016727448000000002, -0...</td>\n",
       "      <td>yes</td>\n",
       "      <td>0.800000</td>\n",
       "      <td>False</td>\n",
       "    </tr>\n",
       "    <tr>\n",
       "      <th>8</th>\n",
       "      <td>GPT4 Correct User:System: |Waste Management| |...</td>\n",
       "      <td>\\n\\n1. The Logical System contains a Water Loo...</td>\n",
       "      <td>False</td>\n",
       "      <td>no</td>\n",
       "      <td>0.89</td>\n",
       "      <td>0.17</td>\n",
       "      <td>[-1.216796875, 8.046875, 3.53515625, -0.013572...</td>\n",
       "      <td>[0.011207580600000001, 0.1165161133, -0.004882...</td>\n",
       "      <td>[-0.0916137695, 0.027038574200000002, -0.00579...</td>\n",
       "      <td>[-0.0113677979, 0.0179138184, -0.0206451416, 0...</td>\n",
       "      <td>RQ-8-4</td>\n",
       "      <td>The settlement shall have at least 70% efficie...</td>\n",
       "      <td>GPT4 Correct User:System: |Waste Management| |...</td>\n",
       "      <td>{'layer_0_head_0': [-0.0017786026, -0.00098800...</td>\n",
       "      <td>no</td>\n",
       "      <td>1.000000</td>\n",
       "      <td>True</td>\n",
       "    </tr>\n",
       "    <tr>\n",
       "      <th>9</th>\n",
       "      <td>GPT4 Correct User:System: |Waste Management| |...</td>\n",
       "      <td>\\n\\n1. The system described is a Logical Syste...</td>\n",
       "      <td>False</td>\n",
       "      <td>no</td>\n",
       "      <td>0.85</td>\n",
       "      <td>0.17</td>\n",
       "      <td>[3.177734375, 8.4453125, 4.5, 0.5991210938, 1....</td>\n",
       "      <td>[0.1166992188, 0.1052246094, 0.1435546875, 0.1...</td>\n",
       "      <td>[-0.0098266602, 0.0516357422, 0.11950683590000...</td>\n",
       "      <td>[-0.0055923462, 0.0001144409, -0.0117874146, -...</td>\n",
       "      <td>RQ-8-4</td>\n",
       "      <td>The settlement shall have at least 70% efficie...</td>\n",
       "      <td>GPT4 Correct User:System: |Waste Management| |...</td>\n",
       "      <td>{'layer_0_head_0': [-0.0012130737, -0.00112056...</td>\n",
       "      <td>no</td>\n",
       "      <td>1.000000</td>\n",
       "      <td>True</td>\n",
       "    </tr>\n",
       "    <tr>\n",
       "      <th>10</th>\n",
       "      <td>GPT4 Correct User:System: |Waste Management| |...</td>\n",
       "      <td>\\n\\n1. The System contains a Waste Management ...</td>\n",
       "      <td>False</td>\n",
       "      <td>no</td>\n",
       "      <td>0.94</td>\n",
       "      <td>0.13</td>\n",
       "      <td>[2.453125, 8.765625, 2.8046875, 1.5205078125, ...</td>\n",
       "      <td>[0.0639648438, 0.0885009766, 0.12109375, 0.185...</td>\n",
       "      <td>[-0.0217895508, 0.0566711426, 0.1318359375, 0....</td>\n",
       "      <td>[-0.0060348511, -0.0004196167, -0.014465332000...</td>\n",
       "      <td>RQ-8-4</td>\n",
       "      <td>The settlement shall have at least 70% efficie...</td>\n",
       "      <td>GPT4 Correct User:System: |Waste Management| |...</td>\n",
       "      <td>{'layer_0_head_0': [-0.0014562607, -0.00174903...</td>\n",
       "      <td>no</td>\n",
       "      <td>1.000000</td>\n",
       "      <td>True</td>\n",
       "    </tr>\n",
       "    <tr>\n",
       "      <th>11</th>\n",
       "      <td>GPT4 Correct User:System: |Waste Management| |...</td>\n",
       "      <td>\\n\\n1. The System consists of several componen...</td>\n",
       "      <td>False</td>\n",
       "      <td>no</td>\n",
       "      <td>1.0</td>\n",
       "      <td>0.15</td>\n",
       "      <td>[-1.7880859375, 6.54296875, 4.0703125, -0.2032...</td>\n",
       "      <td>[0.0137481689, 0.0764160156, 0.0527648926, 0.1...</td>\n",
       "      <td>[0.040283203100000005, -0.0014648438, 0.085998...</td>\n",
       "      <td>[0.0053367615, 0.0085601807, -0.0163421631, 0....</td>\n",
       "      <td>RQ-8-4</td>\n",
       "      <td>The settlement shall have at least 70% efficie...</td>\n",
       "      <td>GPT4 Correct User:System: |Waste Management| |...</td>\n",
       "      <td>{'layer_0_head_0': [-0.00031805040000000003, -...</td>\n",
       "      <td>no</td>\n",
       "      <td>1.000000</td>\n",
       "      <td>True</td>\n",
       "    </tr>\n",
       "    <tr>\n",
       "      <th>12</th>\n",
       "      <td>GPT4 Correct User:System: |Waste Management| |...</td>\n",
       "      <td>\\n\\nThe given System includes several componen...</td>\n",
       "      <td>False</td>\n",
       "      <td>no</td>\n",
       "      <td>0.84</td>\n",
       "      <td>0.15</td>\n",
       "      <td>[1.3642578125, 7.16796875, 3.18359375, 0.65527...</td>\n",
       "      <td>[0.052154541000000006, 0.045013427700000004, 0...</td>\n",
       "      <td>[-0.0354614258, 0.0534667969, 0.1286621094, 0....</td>\n",
       "      <td>[-0.0029373169, 0.0010986328, -0.0119323730000...</td>\n",
       "      <td>RQ-8-4</td>\n",
       "      <td>The settlement shall maintain an atmosphere of...</td>\n",
       "      <td>GPT4 Correct User:System: |Waste Management| |...</td>\n",
       "      <td>{'layer_0_head_0': [-0.0013866425, -0.00200653...</td>\n",
       "      <td>no</td>\n",
       "      <td>1.000000</td>\n",
       "      <td>True</td>\n",
       "    </tr>\n",
       "    <tr>\n",
       "      <th>13</th>\n",
       "      <td>GPT4 Correct User:System: |Air Loop| |is_conta...</td>\n",
       "      <td>\\n\\n1. The requirement states that the settlem...</td>\n",
       "      <td>True</td>\n",
       "      <td>yes</td>\n",
       "      <td>0.76</td>\n",
       "      <td>0.14</td>\n",
       "      <td>[4.4296875, 7.12890625, 4.03125, 1.4423828125,...</td>\n",
       "      <td>[0.034576416, 0.1223144531, 0.1820068359, 0.06...</td>\n",
       "      <td>[-0.0340576172, -0.024108886700000002, 0.06872...</td>\n",
       "      <td>[-0.0131912231, 0.0037651062000000003, -0.0155...</td>\n",
       "      <td>RQ-8-5</td>\n",
       "      <td>The settlement shall maintain an atmosphere of...</td>\n",
       "      <td>GPT4 Correct User:System: |Air Loop| |is_conta...</td>\n",
       "      <td>{'layer_0_head_0': [-0.0017786026, -0.00205039...</td>\n",
       "      <td>yes</td>\n",
       "      <td>0.800000</td>\n",
       "      <td>False</td>\n",
       "    </tr>\n",
       "    <tr>\n",
       "      <th>14</th>\n",
       "      <td>GPT4 Correct User:System: |Air Loop| |is_conta...</td>\n",
       "      <td>\\n\\n1. The settlement is divided into three ma...</td>\n",
       "      <td>True</td>\n",
       "      <td>yes</td>\n",
       "      <td>0.8</td>\n",
       "      <td>0.11</td>\n",
       "      <td>[3.330078125, 5.54296875, 2.373046875, 2.93359...</td>\n",
       "      <td>[0.0093383789, 0.0595092773, 0.0975341797, 0.1...</td>\n",
       "      <td>[-0.0051879883, -0.0117797852, 0.0424499512, 0...</td>\n",
       "      <td>[-0.0098800659, -0.0019760132, -0.0151901245, ...</td>\n",
       "      <td>RQ-8-5</td>\n",
       "      <td>The settlement shall maintain an atmosphere of...</td>\n",
       "      <td>GPT4 Correct User:System: |Air Loop| |is_conta...</td>\n",
       "      <td>{'layer_0_head_0': [-0.0016117096, -0.00165271...</td>\n",
       "      <td>yes</td>\n",
       "      <td>0.800000</td>\n",
       "      <td>False</td>\n",
       "    </tr>\n",
       "    <tr>\n",
       "      <th>15</th>\n",
       "      <td>GPT4 Correct User:System: |Air Loop| |is_conta...</td>\n",
       "      <td>\\n\\n1. The requirement states that the settlem...</td>\n",
       "      <td>True</td>\n",
       "      <td>yes</td>\n",
       "      <td>0.8</td>\n",
       "      <td>0.12</td>\n",
       "      <td>[4.25390625, 7.18359375, 3.083984375, 3.126953...</td>\n",
       "      <td>[0.0249023438, 0.0751342773, 0.1472167969, 0.1...</td>\n",
       "      <td>[-0.036499023400000004, -0.0325317383, 0.05444...</td>\n",
       "      <td>[-0.014999389600000001, 0.0078887939, -0.02032...</td>\n",
       "      <td>RQ-8-5</td>\n",
       "      <td>The settlement shall maintain an atmosphere of...</td>\n",
       "      <td>GPT4 Correct User:System: |Air Loop| |is_conta...</td>\n",
       "      <td>{'layer_0_head_0': [-0.0010108948, -0.00140380...</td>\n",
       "      <td>yes</td>\n",
       "      <td>0.800000</td>\n",
       "      <td>False</td>\n",
       "    </tr>\n",
       "    <tr>\n",
       "      <th>16</th>\n",
       "      <td>GPT4 Correct User:System: |Air Loop| |is_conta...</td>\n",
       "      <td>\\n\\n1. The Air Loop directly performs \"Control...</td>\n",
       "      <td>True</td>\n",
       "      <td>yes</td>\n",
       "      <td>0.61</td>\n",
       "      <td>0.11</td>\n",
       "      <td>[5.45703125, 6.8671875, 4.90625, 0.0240936279,...</td>\n",
       "      <td>[0.0703125, 0.0889282227, 0.2124023438, 0.0269...</td>\n",
       "      <td>[-0.0529174805, -0.0166625977, 0.0840454102, 0...</td>\n",
       "      <td>[-0.013710022, 0.00015258790000000002, -0.0210...</td>\n",
       "      <td>RQ-8-5</td>\n",
       "      <td>The settlement shall provide food preparation ...</td>\n",
       "      <td>GPT4 Correct User:System: |Air Loop| |is_conta...</td>\n",
       "      <td>{'layer_0_head_0': [-0.0010538101000000001, -0...</td>\n",
       "      <td>yes</td>\n",
       "      <td>0.800000</td>\n",
       "      <td>False</td>\n",
       "    </tr>\n",
       "    <tr>\n",
       "      <th>32</th>\n",
       "      <td>GPT4 Correct User:System: |Emergency System| |...</td>\n",
       "      <td>\\n\\n1. The Emergency System is responsible for...</td>\n",
       "      <td>False</td>\n",
       "      <td>no</td>\n",
       "      <td>0.86</td>\n",
       "      <td>0.18</td>\n",
       "      <td>[-1.01171875, 9.171875, 3.41015625, 1.80175781...</td>\n",
       "      <td>[-0.0573425293, 0.1767578125, 0.0116043091, 0....</td>\n",
       "      <td>[-0.1489257812, 0.0184020996, 0.0337524414, -0...</td>\n",
       "      <td>[-0.0343933105, -0.0136566162, -0.0377807617, ...</td>\n",
       "      <td>RQ-2-5</td>\n",
       "      <td>The settlement shall provide sufficient medica...</td>\n",
       "      <td>GPT4 Correct User:System: |Emergency System| |...</td>\n",
       "      <td>{'layer_0_head_0': [-0.0024108887, -0.00210380...</td>\n",
       "      <td>no</td>\n",
       "      <td>0.600000</td>\n",
       "      <td>True</td>\n",
       "    </tr>\n",
       "    <tr>\n",
       "      <th>33</th>\n",
       "      <td>GPT4 Correct User:System: |Emergency System| |...</td>\n",
       "      <td>\\n\\n1. The Emergency System is responsible for...</td>\n",
       "      <td>False</td>\n",
       "      <td>no</td>\n",
       "      <td>1.0</td>\n",
       "      <td>0.15</td>\n",
       "      <td>[1.5927734375, 6.26953125, 4.64453125, 2.40625...</td>\n",
       "      <td>[-0.025848388700000002, 0.1579589844, 0.030944...</td>\n",
       "      <td>[-0.0660400391, 0.1015625, 0.0453491211, 0.009...</td>\n",
       "      <td>[0.0270690918, -0.0108947754, -0.0036029816, -...</td>\n",
       "      <td>RQ-2-5</td>\n",
       "      <td>The settlement shall provide sufficient medica...</td>\n",
       "      <td>GPT4 Correct User:System: |Emergency System| |...</td>\n",
       "      <td>{'layer_0_head_0': [-0.0011911392, -0.00176048...</td>\n",
       "      <td>no</td>\n",
       "      <td>0.600000</td>\n",
       "      <td>True</td>\n",
       "    </tr>\n",
       "    <tr>\n",
       "      <th>34</th>\n",
       "      <td>GPT4 Correct User:System: |Emergency System| |...</td>\n",
       "      <td>\\n\\n1. The Emergency System is responsible for...</td>\n",
       "      <td>False</td>\n",
       "      <td>no</td>\n",
       "      <td>1.0</td>\n",
       "      <td>0.15</td>\n",
       "      <td>[4.078125, 4.50390625, 2.8203125, -0.093383789...</td>\n",
       "      <td>[0.1055908203, 0.1861572266, 0.0770874023, 0.0...</td>\n",
       "      <td>[-0.027526855500000003, 0.047637939500000004, ...</td>\n",
       "      <td>[0.0576477051, 0.0034790039, 0.0057983398, 0.0...</td>\n",
       "      <td>RQ-2-5</td>\n",
       "      <td>The settlement shall provide TBD power and uti...</td>\n",
       "      <td>GPT4 Correct User:System: |Emergency System| |...</td>\n",
       "      <td>{'layer_0_head_0': [-0.0033874512, -0.00191688...</td>\n",
       "      <td>no</td>\n",
       "      <td>0.600000</td>\n",
       "      <td>True</td>\n",
       "    </tr>\n",
       "    <tr>\n",
       "      <th>35</th>\n",
       "      <td>GPT4 Correct User:System: |Emergency System| |...</td>\n",
       "      <td>\\n\\n1. The system includes an \"Emergency Syste...</td>\n",
       "      <td>True</td>\n",
       "      <td>yes</td>\n",
       "      <td>0.94</td>\n",
       "      <td>0.20</td>\n",
       "      <td>[4.02734375, 4.359375, 3.822265625, 2.47460937...</td>\n",
       "      <td>[0.0711669922, 0.0723876953, 0.058959960900000...</td>\n",
       "      <td>[0.000579834, 0.0238647461, -0.0024414062, 0.0...</td>\n",
       "      <td>[0.0139923096, 0.028152465800000002, -0.018280...</td>\n",
       "      <td>RQ-8-6</td>\n",
       "      <td>The settlement shall have at least two points ...</td>\n",
       "      <td>GPT4 Correct User:System: |Emergency System| |...</td>\n",
       "      <td>{'layer_0_head_0': [-0.0012121201, -0.00219726...</td>\n",
       "      <td>yes</td>\n",
       "      <td>0.666667</td>\n",
       "      <td>False</td>\n",
       "    </tr>\n",
       "    <tr>\n",
       "      <th>36</th>\n",
       "      <td>GPT4 Correct User:System: |Emergency System| |...</td>\n",
       "      <td>\\n\\nThe given System description contains the ...</td>\n",
       "      <td>True</td>\n",
       "      <td>yes</td>\n",
       "      <td>0.93</td>\n",
       "      <td>0.18</td>\n",
       "      <td>[4.41015625, 5.33984375, 2.9921875, 3.6328125,...</td>\n",
       "      <td>[0.033020019500000004, 0.0717773438, 0.1077880...</td>\n",
       "      <td>[-0.0188598633, 0.008666992200000001, 0.042114...</td>\n",
       "      <td>[-0.0058174133, -0.0048904419000000005, -0.015...</td>\n",
       "      <td>RQ-8-6</td>\n",
       "      <td>The settlement shall have at least two points ...</td>\n",
       "      <td>GPT4 Correct User:System: |Emergency System| |...</td>\n",
       "      <td>{'layer_0_head_0': [-0.0017156601, -0.00174713...</td>\n",
       "      <td>yes</td>\n",
       "      <td>0.666667</td>\n",
       "      <td>False</td>\n",
       "    </tr>\n",
       "    <tr>\n",
       "      <th>37</th>\n",
       "      <td>GPT4 Correct User:System: |Emergency System| |...</td>\n",
       "      <td>\\n\\n1. The settlement is divided into various ...</td>\n",
       "      <td>True</td>\n",
       "      <td>yes</td>\n",
       "      <td>0.91</td>\n",
       "      <td>0.17</td>\n",
       "      <td>[4.2734375, 5.66015625, 5.1640625, 1.362304687...</td>\n",
       "      <td>[0.032745361300000005, 0.0720825195, 0.1754150...</td>\n",
       "      <td>[-0.0088500977, -0.0056304932, 0.0426635742, 0...</td>\n",
       "      <td>[-0.011650085400000001, 0.0007247925, -0.01446...</td>\n",
       "      <td>RQ-8-6</td>\n",
       "      <td>The settlement shall have at least two points ...</td>\n",
       "      <td>GPT4 Correct User:System: |Emergency System| |...</td>\n",
       "      <td>{'layer_0_head_0': [-0.0001853704, -0.00148105...</td>\n",
       "      <td>yes</td>\n",
       "      <td>0.666667</td>\n",
       "      <td>False</td>\n",
       "    </tr>\n",
       "    <tr>\n",
       "      <th>38</th>\n",
       "      <td>GPT4 Correct User:System: |Emergency System| |...</td>\n",
       "      <td>\\n\\n1. The system contains a \"Habitation\" modu...</td>\n",
       "      <td>True</td>\n",
       "      <td>yes</td>\n",
       "      <td>0.87</td>\n",
       "      <td>0.18</td>\n",
       "      <td>[3.4453125, 6.046875, 3.140625, 4.4375, 2.8671...</td>\n",
       "      <td>[0.0010375977, 0.0485839844, 0.1048583984, 0.2...</td>\n",
       "      <td>[-0.0039978027, -0.003326416, 0.0303344727, 0....</td>\n",
       "      <td>[-0.0165710449, -0.0057106018, -0.0191345215, ...</td>\n",
       "      <td>RQ-8-6</td>\n",
       "      <td>The settlement shall have fire suppression sys...</td>\n",
       "      <td>GPT4 Correct User:System: |Emergency System| |...</td>\n",
       "      <td>{'layer_0_head_0': [-0.00031089780000000003, -...</td>\n",
       "      <td>yes</td>\n",
       "      <td>0.666667</td>\n",
       "      <td>False</td>\n",
       "    </tr>\n",
       "    <tr>\n",
       "      <th>44</th>\n",
       "      <td>GPT4 Correct User:System: |Thermal Control| |i...</td>\n",
       "      <td>\\n\\n1. The system contains a \"Thermal Control\"...</td>\n",
       "      <td>True</td>\n",
       "      <td>yes</td>\n",
       "      <td>0.95</td>\n",
       "      <td>0.13</td>\n",
       "      <td>[0.9130859375, 5.47265625, 5.27734375, 5.36718...</td>\n",
       "      <td>[0.002166748, 0.009765625, 0.134765625, 0.2958...</td>\n",
       "      <td>[-0.020202636700000002, -0.0477294922, -0.0518...</td>\n",
       "      <td>[-0.0228424072, 0.010368347200000001, -0.02560...</td>\n",
       "      <td>RQ-2-7</td>\n",
       "      <td>The settlement shall keep temperature gradient...</td>\n",
       "      <td>GPT4 Correct User:System: |Thermal Control| |i...</td>\n",
       "      <td>{'layer_0_head_0': [-0.0008587837, -0.00097751...</td>\n",
       "      <td>yes</td>\n",
       "      <td>0.600000</td>\n",
       "      <td>False</td>\n",
       "    </tr>\n",
       "    <tr>\n",
       "      <th>45</th>\n",
       "      <td>GPT4 Correct User:System: |Thermal Control| |i...</td>\n",
       "      <td>\\n\\n1. The Logical System contains the Thermal...</td>\n",
       "      <td>True</td>\n",
       "      <td>yes</td>\n",
       "      <td>0.94</td>\n",
       "      <td>0.14</td>\n",
       "      <td>[3.4453125, 7.53515625, 4.31640625, 0.89257812...</td>\n",
       "      <td>[0.0578308105, 0.0731811523, 0.1529541016, 0.1...</td>\n",
       "      <td>[-0.0081787109, 0.0037536621, 0.0586242676, 0....</td>\n",
       "      <td>[-0.0102233887, 0.0094909668, -0.0140991211, -...</td>\n",
       "      <td>RQ-2-7</td>\n",
       "      <td>The settlement shall keep temperature gradient...</td>\n",
       "      <td>GPT4 Correct User:System: |Thermal Control| |i...</td>\n",
       "      <td>{'layer_0_head_0': [-0.0018625259000000002, -0...</td>\n",
       "      <td>yes</td>\n",
       "      <td>0.600000</td>\n",
       "      <td>False</td>\n",
       "    </tr>\n",
       "    <tr>\n",
       "      <th>46</th>\n",
       "      <td>GPT4 Correct User:System: |Thermal Control| |i...</td>\n",
       "      <td>\\n\\n1. The requirement states that the settlem...</td>\n",
       "      <td>True</td>\n",
       "      <td>yes</td>\n",
       "      <td>0.82</td>\n",
       "      <td>0.15</td>\n",
       "      <td>[3.49609375, 7.09765625, 4.34375, 0.3498535156...</td>\n",
       "      <td>[0.043762207000000004, 0.0601196289, 0.1630859...</td>\n",
       "      <td>[-0.0205078125, 0.005340576200000001, 0.052001...</td>\n",
       "      <td>[-0.013694763200000001, 0.0039443970000000005,...</td>\n",
       "      <td>RQ-2-7</td>\n",
       "      <td>The settlement shall keep temperature gradient...</td>\n",
       "      <td>GPT4 Correct User:System: |Thermal Control| |i...</td>\n",
       "      <td>{'layer_0_head_0': [-0.0017690659, -0.00096464...</td>\n",
       "      <td>yes</td>\n",
       "      <td>0.600000</td>\n",
       "      <td>False</td>\n",
       "    </tr>\n",
       "    <tr>\n",
       "      <th>50</th>\n",
       "      <td>GPT4 Correct User:System: |Habitation| |is_con...</td>\n",
       "      <td>\\n\\n1. The \"Logical System\" directly contains ...</td>\n",
       "      <td>False</td>\n",
       "      <td>no</td>\n",
       "      <td>0.55</td>\n",
       "      <td>0.18</td>\n",
       "      <td>[0.94921875, 6.73828125, 5.26171875, 0.7905273...</td>\n",
       "      <td>[0.0095214844, 0.0744018555, 0.3168945312, 0.1...</td>\n",
       "      <td>[-0.0812988281, 0.0107727051, 0.1037597656, 0....</td>\n",
       "      <td>[0.0009307861, -0.0081481934, -0.0021820068, -...</td>\n",
       "      <td>RQ-2-8</td>\n",
       "      <td>The settlement shall maintain a nominal humidi...</td>\n",
       "      <td>GPT4 Correct User:System: |Habitation| |is_con...</td>\n",
       "      <td>{'layer_0_head_0': [-0.0010051727, -0.00184535...</td>\n",
       "      <td>no</td>\n",
       "      <td>0.600000</td>\n",
       "      <td>True</td>\n",
       "    </tr>\n",
       "    <tr>\n",
       "      <th>51</th>\n",
       "      <td>GPT4 Correct User:System: |Habitation| |is_con...</td>\n",
       "      <td>\\n\\n1. The requirement states that the settlem...</td>\n",
       "      <td>False</td>\n",
       "      <td>no</td>\n",
       "      <td>1.0</td>\n",
       "      <td>0.17</td>\n",
       "      <td>[-3.15625, 4.9140625, 4.74609375, 1.1630859375...</td>\n",
       "      <td>[0.030944824200000002, 0.025085449200000002, 0...</td>\n",
       "      <td>[0.031341552700000004, -0.0085144043, 0.073486...</td>\n",
       "      <td>[0.0070495605000000005, 0.010871887200000001, ...</td>\n",
       "      <td>RQ-2-8</td>\n",
       "      <td>None</td>\n",
       "      <td>GPT4 Correct User:System: |Habitation| |is_con...</td>\n",
       "      <td>{'layer_0_head_0': [-0.0024528503, -0.00202751...</td>\n",
       "      <td>no</td>\n",
       "      <td>0.600000</td>\n",
       "      <td>True</td>\n",
       "    </tr>\n",
       "    <tr>\n",
       "      <th>52</th>\n",
       "      <td>GPT4 Correct User:System: |Habitation| |is_con...</td>\n",
       "      <td>\\n\\n1. The requirement is to maintain a nomina...</td>\n",
       "      <td>False</td>\n",
       "      <td>no</td>\n",
       "      <td>0.76</td>\n",
       "      <td>0.13</td>\n",
       "      <td>[1.80078125, 7.51953125, 5.05859375, 0.1187133...</td>\n",
       "      <td>[0.0946044922, 0.0831298828, 0.1507568359, 0.1...</td>\n",
       "      <td>[-0.0311279297, 0.0496826172, 0.1148681641, 0....</td>\n",
       "      <td>[0.0031433105, 0.0009460449, -0.0139541626, -0...</td>\n",
       "      <td>RQ-2-8</td>\n",
       "      <td>None</td>\n",
       "      <td>GPT4 Correct User:System: |Habitation| |is_con...</td>\n",
       "      <td>{'layer_0_head_0': [-0.0027294159, -0.00194740...</td>\n",
       "      <td>no</td>\n",
       "      <td>0.600000</td>\n",
       "      <td>True</td>\n",
       "    </tr>\n",
       "  </tbody>\n",
       "</table>\n",
       "</div>"
      ],
      "text/plain": [
       "                                               prompt  \\\n",
       "4   GPT4 Correct User:System: |Structure, Shieldin...   \n",
       "5   GPT4 Correct User:System: |Structure, Shieldin...   \n",
       "6   GPT4 Correct User:System: |Structure, Shieldin...   \n",
       "7   GPT4 Correct User:System: |Structure, Shieldin...   \n",
       "8   GPT4 Correct User:System: |Waste Management| |...   \n",
       "9   GPT4 Correct User:System: |Waste Management| |...   \n",
       "10  GPT4 Correct User:System: |Waste Management| |...   \n",
       "11  GPT4 Correct User:System: |Waste Management| |...   \n",
       "12  GPT4 Correct User:System: |Waste Management| |...   \n",
       "13  GPT4 Correct User:System: |Air Loop| |is_conta...   \n",
       "14  GPT4 Correct User:System: |Air Loop| |is_conta...   \n",
       "15  GPT4 Correct User:System: |Air Loop| |is_conta...   \n",
       "16  GPT4 Correct User:System: |Air Loop| |is_conta...   \n",
       "32  GPT4 Correct User:System: |Emergency System| |...   \n",
       "33  GPT4 Correct User:System: |Emergency System| |...   \n",
       "34  GPT4 Correct User:System: |Emergency System| |...   \n",
       "35  GPT4 Correct User:System: |Emergency System| |...   \n",
       "36  GPT4 Correct User:System: |Emergency System| |...   \n",
       "37  GPT4 Correct User:System: |Emergency System| |...   \n",
       "38  GPT4 Correct User:System: |Emergency System| |...   \n",
       "44  GPT4 Correct User:System: |Thermal Control| |i...   \n",
       "45  GPT4 Correct User:System: |Thermal Control| |i...   \n",
       "46  GPT4 Correct User:System: |Thermal Control| |i...   \n",
       "50  GPT4 Correct User:System: |Habitation| |is_con...   \n",
       "51  GPT4 Correct User:System: |Habitation| |is_con...   \n",
       "52  GPT4 Correct User:System: |Habitation| |is_con...   \n",
       "\n",
       "                                               output final_answer predict  \\\n",
       "4   \\n\\n1. The \"Logical System\" is a component of ...         True     yes   \n",
       "5   \\n\\n1. The System describes the structure, shi...         True     yes   \n",
       "6   \\n\\n1. The settlement consists of multiple sub...         True     yes   \n",
       "7   \\n\\n1. The settlement's structure includes Shi...         True     yes   \n",
       "8   \\n\\n1. The Logical System contains a Water Loo...        False      no   \n",
       "9   \\n\\n1. The system described is a Logical Syste...        False      no   \n",
       "10  \\n\\n1. The System contains a Waste Management ...        False      no   \n",
       "11  \\n\\n1. The System consists of several componen...        False      no   \n",
       "12  \\n\\nThe given System includes several componen...        False      no   \n",
       "13  \\n\\n1. The requirement states that the settlem...         True     yes   \n",
       "14  \\n\\n1. The settlement is divided into three ma...         True     yes   \n",
       "15  \\n\\n1. The requirement states that the settlem...         True     yes   \n",
       "16  \\n\\n1. The Air Loop directly performs \"Control...         True     yes   \n",
       "32  \\n\\n1. The Emergency System is responsible for...        False      no   \n",
       "33  \\n\\n1. The Emergency System is responsible for...        False      no   \n",
       "34  \\n\\n1. The Emergency System is responsible for...        False      no   \n",
       "35  \\n\\n1. The system includes an \"Emergency Syste...         True     yes   \n",
       "36  \\n\\nThe given System description contains the ...         True     yes   \n",
       "37  \\n\\n1. The settlement is divided into various ...         True     yes   \n",
       "38  \\n\\n1. The system contains a \"Habitation\" modu...         True     yes   \n",
       "44  \\n\\n1. The system contains a \"Thermal Control\"...         True     yes   \n",
       "45  \\n\\n1. The Logical System contains the Thermal...         True     yes   \n",
       "46  \\n\\n1. The requirement states that the settlem...         True     yes   \n",
       "50  \\n\\n1. The \"Logical System\" directly contains ...        False      no   \n",
       "51  \\n\\n1. The requirement states that the settlem...        False      no   \n",
       "52  \\n\\n1. The requirement is to maintain a nomina...        False      no   \n",
       "\n",
       "   score  sequence_uncertainty  \\\n",
       "4   0.91                  0.13   \n",
       "5   0.95                  0.14   \n",
       "6   0.94                  0.13   \n",
       "7   0.88                  0.18   \n",
       "8   0.89                  0.17   \n",
       "9   0.85                  0.17   \n",
       "10  0.94                  0.13   \n",
       "11   1.0                  0.15   \n",
       "12  0.84                  0.15   \n",
       "13  0.76                  0.14   \n",
       "14   0.8                  0.11   \n",
       "15   0.8                  0.12   \n",
       "16  0.61                  0.11   \n",
       "32  0.86                  0.18   \n",
       "33   1.0                  0.15   \n",
       "34   1.0                  0.15   \n",
       "35  0.94                  0.20   \n",
       "36  0.93                  0.18   \n",
       "37  0.91                  0.17   \n",
       "38  0.87                  0.18   \n",
       "44  0.95                  0.13   \n",
       "45  0.94                  0.14   \n",
       "46  0.82                  0.15   \n",
       "50  0.55                  0.18   \n",
       "51   1.0                  0.17   \n",
       "52  0.76                  0.13   \n",
       "\n",
       "                          hidden_states.-1_last_token  \\\n",
       "4   [3.9140625, 3.478515625, 0.5551757812, 1.85351...   \n",
       "5   [3.609375, 3.626953125, 2.060546875, 1.7695312...   \n",
       "6   [4.25, 4.08203125, 1.16796875, 1.79296875, 4.2...   \n",
       "7   [5.37890625, 6.77734375, 4.546875, -0.41503906...   \n",
       "8   [-1.216796875, 8.046875, 3.53515625, -0.013572...   \n",
       "9   [3.177734375, 8.4453125, 4.5, 0.5991210938, 1....   \n",
       "10  [2.453125, 8.765625, 2.8046875, 1.5205078125, ...   \n",
       "11  [-1.7880859375, 6.54296875, 4.0703125, -0.2032...   \n",
       "12  [1.3642578125, 7.16796875, 3.18359375, 0.65527...   \n",
       "13  [4.4296875, 7.12890625, 4.03125, 1.4423828125,...   \n",
       "14  [3.330078125, 5.54296875, 2.373046875, 2.93359...   \n",
       "15  [4.25390625, 7.18359375, 3.083984375, 3.126953...   \n",
       "16  [5.45703125, 6.8671875, 4.90625, 0.0240936279,...   \n",
       "32  [-1.01171875, 9.171875, 3.41015625, 1.80175781...   \n",
       "33  [1.5927734375, 6.26953125, 4.64453125, 2.40625...   \n",
       "34  [4.078125, 4.50390625, 2.8203125, -0.093383789...   \n",
       "35  [4.02734375, 4.359375, 3.822265625, 2.47460937...   \n",
       "36  [4.41015625, 5.33984375, 2.9921875, 3.6328125,...   \n",
       "37  [4.2734375, 5.66015625, 5.1640625, 1.362304687...   \n",
       "38  [3.4453125, 6.046875, 3.140625, 4.4375, 2.8671...   \n",
       "44  [0.9130859375, 5.47265625, 5.27734375, 5.36718...   \n",
       "45  [3.4453125, 7.53515625, 4.31640625, 0.89257812...   \n",
       "46  [3.49609375, 7.09765625, 4.34375, 0.3498535156...   \n",
       "50  [0.94921875, 6.73828125, 5.26171875, 0.7905273...   \n",
       "51  [-3.15625, 4.9140625, 4.74609375, 1.1630859375...   \n",
       "52  [1.80078125, 7.51953125, 5.05859375, 0.1187133...   \n",
       "\n",
       "                          hidden_states.-8_last_token  \\\n",
       "4   [0.0048217773, 0.0640258789, 0.0997924805, 0.1...   \n",
       "5   [-0.0025634766, 0.0680541992, 0.1242675781, 0....   \n",
       "6   [0.0152893066, 0.0825805664, 0.1143798828, 0.1...   \n",
       "7   [0.0649414062, 0.1099243164, 0.2034912109, 0.0...   \n",
       "8   [0.011207580600000001, 0.1165161133, -0.004882...   \n",
       "9   [0.1166992188, 0.1052246094, 0.1435546875, 0.1...   \n",
       "10  [0.0639648438, 0.0885009766, 0.12109375, 0.185...   \n",
       "11  [0.0137481689, 0.0764160156, 0.0527648926, 0.1...   \n",
       "12  [0.052154541000000006, 0.045013427700000004, 0...   \n",
       "13  [0.034576416, 0.1223144531, 0.1820068359, 0.06...   \n",
       "14  [0.0093383789, 0.0595092773, 0.0975341797, 0.1...   \n",
       "15  [0.0249023438, 0.0751342773, 0.1472167969, 0.1...   \n",
       "16  [0.0703125, 0.0889282227, 0.2124023438, 0.0269...   \n",
       "32  [-0.0573425293, 0.1767578125, 0.0116043091, 0....   \n",
       "33  [-0.025848388700000002, 0.1579589844, 0.030944...   \n",
       "34  [0.1055908203, 0.1861572266, 0.0770874023, 0.0...   \n",
       "35  [0.0711669922, 0.0723876953, 0.058959960900000...   \n",
       "36  [0.033020019500000004, 0.0717773438, 0.1077880...   \n",
       "37  [0.032745361300000005, 0.0720825195, 0.1754150...   \n",
       "38  [0.0010375977, 0.0485839844, 0.1048583984, 0.2...   \n",
       "44  [0.002166748, 0.009765625, 0.134765625, 0.2958...   \n",
       "45  [0.0578308105, 0.0731811523, 0.1529541016, 0.1...   \n",
       "46  [0.043762207000000004, 0.0601196289, 0.1630859...   \n",
       "50  [0.0095214844, 0.0744018555, 0.3168945312, 0.1...   \n",
       "51  [0.030944824200000002, 0.025085449200000002, 0...   \n",
       "52  [0.0946044922, 0.0831298828, 0.1507568359, 0.1...   \n",
       "\n",
       "                         hidden_states.-16_last_token  \\\n",
       "4   [-0.0059204102, 0.0032958984, 0.03271484380000...   \n",
       "5   [-0.0099487305, 0.0057067871, 0.0256347656, 0....   \n",
       "6   [0.0092163086, 0.0173950195, 0.029327392600000...   \n",
       "7   [-0.019287109400000002, 0.0046615601, 0.068176...   \n",
       "8   [-0.0916137695, 0.027038574200000002, -0.00579...   \n",
       "9   [-0.0098266602, 0.0516357422, 0.11950683590000...   \n",
       "10  [-0.0217895508, 0.0566711426, 0.1318359375, 0....   \n",
       "11  [0.040283203100000005, -0.0014648438, 0.085998...   \n",
       "12  [-0.0354614258, 0.0534667969, 0.1286621094, 0....   \n",
       "13  [-0.0340576172, -0.024108886700000002, 0.06872...   \n",
       "14  [-0.0051879883, -0.0117797852, 0.0424499512, 0...   \n",
       "15  [-0.036499023400000004, -0.0325317383, 0.05444...   \n",
       "16  [-0.0529174805, -0.0166625977, 0.0840454102, 0...   \n",
       "32  [-0.1489257812, 0.0184020996, 0.0337524414, -0...   \n",
       "33  [-0.0660400391, 0.1015625, 0.0453491211, 0.009...   \n",
       "34  [-0.027526855500000003, 0.047637939500000004, ...   \n",
       "35  [0.000579834, 0.0238647461, -0.0024414062, 0.0...   \n",
       "36  [-0.0188598633, 0.008666992200000001, 0.042114...   \n",
       "37  [-0.0088500977, -0.0056304932, 0.0426635742, 0...   \n",
       "38  [-0.0039978027, -0.003326416, 0.0303344727, 0....   \n",
       "44  [-0.020202636700000002, -0.0477294922, -0.0518...   \n",
       "45  [-0.0081787109, 0.0037536621, 0.0586242676, 0....   \n",
       "46  [-0.0205078125, 0.005340576200000001, 0.052001...   \n",
       "50  [-0.0812988281, 0.0107727051, 0.1037597656, 0....   \n",
       "51  [0.031341552700000004, -0.0085144043, 0.073486...   \n",
       "52  [-0.0311279297, 0.0496826172, 0.1148681641, 0....   \n",
       "\n",
       "                         hidden_states.-24_last_token  req_id  \\\n",
       "4   [-0.0165252686, 0.016494751000000002, -0.01963...  RQ-8-3   \n",
       "5   [-0.0198669434, 0.0048789978, -0.0099945068, -...  RQ-8-3   \n",
       "6   [-0.0111923218, 0.013832092300000001, -0.01602...  RQ-8-3   \n",
       "7   [-0.0228881836, -0.0026245117, -0.0243530273, ...  RQ-8-3   \n",
       "8   [-0.0113677979, 0.0179138184, -0.0206451416, 0...  RQ-8-4   \n",
       "9   [-0.0055923462, 0.0001144409, -0.0117874146, -...  RQ-8-4   \n",
       "10  [-0.0060348511, -0.0004196167, -0.014465332000...  RQ-8-4   \n",
       "11  [0.0053367615, 0.0085601807, -0.0163421631, 0....  RQ-8-4   \n",
       "12  [-0.0029373169, 0.0010986328, -0.0119323730000...  RQ-8-4   \n",
       "13  [-0.0131912231, 0.0037651062000000003, -0.0155...  RQ-8-5   \n",
       "14  [-0.0098800659, -0.0019760132, -0.0151901245, ...  RQ-8-5   \n",
       "15  [-0.014999389600000001, 0.0078887939, -0.02032...  RQ-8-5   \n",
       "16  [-0.013710022, 0.00015258790000000002, -0.0210...  RQ-8-5   \n",
       "32  [-0.0343933105, -0.0136566162, -0.0377807617, ...  RQ-2-5   \n",
       "33  [0.0270690918, -0.0108947754, -0.0036029816, -...  RQ-2-5   \n",
       "34  [0.0576477051, 0.0034790039, 0.0057983398, 0.0...  RQ-2-5   \n",
       "35  [0.0139923096, 0.028152465800000002, -0.018280...  RQ-8-6   \n",
       "36  [-0.0058174133, -0.0048904419000000005, -0.015...  RQ-8-6   \n",
       "37  [-0.011650085400000001, 0.0007247925, -0.01446...  RQ-8-6   \n",
       "38  [-0.0165710449, -0.0057106018, -0.0191345215, ...  RQ-8-6   \n",
       "44  [-0.0228424072, 0.010368347200000001, -0.02560...  RQ-2-7   \n",
       "45  [-0.0102233887, 0.0094909668, -0.0140991211, -...  RQ-2-7   \n",
       "46  [-0.013694763200000001, 0.0039443970000000005,...  RQ-2-7   \n",
       "50  [0.0009307861, -0.0081481934, -0.0021820068, -...  RQ-2-8   \n",
       "51  [0.0070495605000000005, 0.010871887200000001, ...  RQ-2-8   \n",
       "52  [0.0031433105, 0.0009460449, -0.0139541626, -0...  RQ-2-8   \n",
       "\n",
       "                                          requirement  \\\n",
       "4   The settlement shall remove sufficient particl...   \n",
       "5   The settlement shall remove sufficient particl...   \n",
       "6   The settlement shall remove sufficient particl...   \n",
       "7   The settlement shall have at least 70% efficie...   \n",
       "8   The settlement shall have at least 70% efficie...   \n",
       "9   The settlement shall have at least 70% efficie...   \n",
       "10  The settlement shall have at least 70% efficie...   \n",
       "11  The settlement shall have at least 70% efficie...   \n",
       "12  The settlement shall maintain an atmosphere of...   \n",
       "13  The settlement shall maintain an atmosphere of...   \n",
       "14  The settlement shall maintain an atmosphere of...   \n",
       "15  The settlement shall maintain an atmosphere of...   \n",
       "16  The settlement shall provide food preparation ...   \n",
       "32  The settlement shall provide sufficient medica...   \n",
       "33  The settlement shall provide sufficient medica...   \n",
       "34  The settlement shall provide TBD power and uti...   \n",
       "35  The settlement shall have at least two points ...   \n",
       "36  The settlement shall have at least two points ...   \n",
       "37  The settlement shall have at least two points ...   \n",
       "38  The settlement shall have fire suppression sys...   \n",
       "44  The settlement shall keep temperature gradient...   \n",
       "45  The settlement shall keep temperature gradient...   \n",
       "46  The settlement shall keep temperature gradient...   \n",
       "50  The settlement shall maintain a nominal humidi...   \n",
       "51                                               None   \n",
       "52                                               None   \n",
       "\n",
       "                                      complete_inputs  \\\n",
       "4   GPT4 Correct User:System: |Structure, Shieldin...   \n",
       "5   GPT4 Correct User:System: |Structure, Shieldin...   \n",
       "6   GPT4 Correct User:System: |Structure, Shieldin...   \n",
       "7   GPT4 Correct User:System: |Structure, Shieldin...   \n",
       "8   GPT4 Correct User:System: |Waste Management| |...   \n",
       "9   GPT4 Correct User:System: |Waste Management| |...   \n",
       "10  GPT4 Correct User:System: |Waste Management| |...   \n",
       "11  GPT4 Correct User:System: |Waste Management| |...   \n",
       "12  GPT4 Correct User:System: |Waste Management| |...   \n",
       "13  GPT4 Correct User:System: |Air Loop| |is_conta...   \n",
       "14  GPT4 Correct User:System: |Air Loop| |is_conta...   \n",
       "15  GPT4 Correct User:System: |Air Loop| |is_conta...   \n",
       "16  GPT4 Correct User:System: |Air Loop| |is_conta...   \n",
       "32  GPT4 Correct User:System: |Emergency System| |...   \n",
       "33  GPT4 Correct User:System: |Emergency System| |...   \n",
       "34  GPT4 Correct User:System: |Emergency System| |...   \n",
       "35  GPT4 Correct User:System: |Emergency System| |...   \n",
       "36  GPT4 Correct User:System: |Emergency System| |...   \n",
       "37  GPT4 Correct User:System: |Emergency System| |...   \n",
       "38  GPT4 Correct User:System: |Emergency System| |...   \n",
       "44  GPT4 Correct User:System: |Thermal Control| |i...   \n",
       "45  GPT4 Correct User:System: |Thermal Control| |i...   \n",
       "46  GPT4 Correct User:System: |Thermal Control| |i...   \n",
       "50  GPT4 Correct User:System: |Habitation| |is_con...   \n",
       "51  GPT4 Correct User:System: |Habitation| |is_con...   \n",
       "52  GPT4 Correct User:System: |Habitation| |is_con...   \n",
       "\n",
       "                                           attentions  \\\n",
       "4   {'layer_0_head_0': [-0.0016679764, -0.00129413...   \n",
       "5   {'layer_0_head_0': [-0.0022544861, -0.00114536...   \n",
       "6   {'layer_0_head_0': [-0.0017986298, -0.00088310...   \n",
       "7   {'layer_0_head_0': [-0.0016727448000000002, -0...   \n",
       "8   {'layer_0_head_0': [-0.0017786026, -0.00098800...   \n",
       "9   {'layer_0_head_0': [-0.0012130737, -0.00112056...   \n",
       "10  {'layer_0_head_0': [-0.0014562607, -0.00174903...   \n",
       "11  {'layer_0_head_0': [-0.00031805040000000003, -...   \n",
       "12  {'layer_0_head_0': [-0.0013866425, -0.00200653...   \n",
       "13  {'layer_0_head_0': [-0.0017786026, -0.00205039...   \n",
       "14  {'layer_0_head_0': [-0.0016117096, -0.00165271...   \n",
       "15  {'layer_0_head_0': [-0.0010108948, -0.00140380...   \n",
       "16  {'layer_0_head_0': [-0.0010538101000000001, -0...   \n",
       "32  {'layer_0_head_0': [-0.0024108887, -0.00210380...   \n",
       "33  {'layer_0_head_0': [-0.0011911392, -0.00176048...   \n",
       "34  {'layer_0_head_0': [-0.0033874512, -0.00191688...   \n",
       "35  {'layer_0_head_0': [-0.0012121201, -0.00219726...   \n",
       "36  {'layer_0_head_0': [-0.0017156601, -0.00174713...   \n",
       "37  {'layer_0_head_0': [-0.0001853704, -0.00148105...   \n",
       "38  {'layer_0_head_0': [-0.00031089780000000003, -...   \n",
       "44  {'layer_0_head_0': [-0.0008587837, -0.00097751...   \n",
       "45  {'layer_0_head_0': [-0.0018625259000000002, -0...   \n",
       "46  {'layer_0_head_0': [-0.0017690659, -0.00096464...   \n",
       "50  {'layer_0_head_0': [-0.0010051727, -0.00184535...   \n",
       "51  {'layer_0_head_0': [-0.0024528503, -0.00202751...   \n",
       "52  {'layer_0_head_0': [-0.0027294159, -0.00194740...   \n",
       "\n",
       "   majority_predict_openchat  uncertainty_openchat  correct  \n",
       "4                        yes              0.800000    False  \n",
       "5                        yes              0.800000    False  \n",
       "6                        yes              0.800000    False  \n",
       "7                        yes              0.800000    False  \n",
       "8                         no              1.000000     True  \n",
       "9                         no              1.000000     True  \n",
       "10                        no              1.000000     True  \n",
       "11                        no              1.000000     True  \n",
       "12                        no              1.000000     True  \n",
       "13                       yes              0.800000    False  \n",
       "14                       yes              0.800000    False  \n",
       "15                       yes              0.800000    False  \n",
       "16                       yes              0.800000    False  \n",
       "32                        no              0.600000     True  \n",
       "33                        no              0.600000     True  \n",
       "34                        no              0.600000     True  \n",
       "35                       yes              0.666667    False  \n",
       "36                       yes              0.666667    False  \n",
       "37                       yes              0.666667    False  \n",
       "38                       yes              0.666667    False  \n",
       "44                       yes              0.600000    False  \n",
       "45                       yes              0.600000    False  \n",
       "46                       yes              0.600000    False  \n",
       "50                        no              0.600000     True  \n",
       "51                        no              0.600000     True  \n",
       "52                        no              0.600000     True  "
      ]
     },
     "execution_count": 15,
     "metadata": {},
     "output_type": "execute_result"
    }
   ],
   "source": [
    "df.loc[indexes]"
   ]
  },
  {
   "cell_type": "code",
   "execution_count": 184,
   "metadata": {},
   "outputs": [],
   "source": [
    "from sklearn.metrics import accuracy_score, f1_score, precision_score, recall_score\n",
    "from sklearn.linear_model import LogisticRegression\n",
    "from tqdm.notebook import tqdm\n",
    "def train_probes(seed, train_set_idxs, val_set_idxs, separated_head_wise_activations, separated_labels, num_layers, num_heads):\n",
    "    \n",
    "    all_head_accs = []\n",
    "    probes = []\n",
    "\n",
    "    all_X_train = np.concatenate([separated_head_wise_activations[i] for i in train_set_idxs], axis = 0)\n",
    "    print(all_X_train.shape)\n",
    "    all_X_val = np.concatenate([separated_head_wise_activations[i] for i in val_set_idxs], axis = 0)\n",
    "    y_train = np.concatenate([separated_labels[i] for i in train_set_idxs], axis = 0)\n",
    "    print(y_train.shape)\n",
    "    y_val = np.concatenate([separated_labels[i] for i in val_set_idxs], axis = 0)\n",
    "\n",
    "    for layer in tqdm(range(num_layers)): \n",
    "        for head in range(num_heads): \n",
    "            X_train = all_X_train[:,layer,head,:]\n",
    "            X_val = all_X_val[:,layer,head,:]\n",
    "    \n",
    "            clf = LogisticRegression(random_state=seed, max_iter=1000).fit(X_train, y_train)\n",
    "            y_pred = clf.predict(X_train)\n",
    "            y_val_pred = clf.predict(X_val)\n",
    "            all_head_accs.append(accuracy_score(y_val, y_val_pred))\n",
    "            probes.append(clf)\n",
    "\n",
    "    all_head_accs_np = np.array(all_head_accs)\n",
    "\n",
    "    return probes, all_head_accs_np"
   ]
  },
  {
   "cell_type": "code",
   "execution_count": 185,
   "metadata": {},
   "outputs": [
    {
     "name": "stdout",
     "output_type": "stream",
     "text": [
      "(27, 32, 32, 128)\n",
      "(27,)\n"
     ]
    },
    {
     "data": {
      "application/vnd.jupyter.widget-view+json": {
       "model_id": "b94162e4da9c4b93bb36839bde2c02a5",
       "version_major": 2,
       "version_minor": 0
      },
      "text/plain": [
       "  0%|          | 0/32 [00:00<?, ?it/s]"
      ]
     },
     "metadata": {},
     "output_type": "display_data"
    }
   ],
   "source": [
    "num_layers =32\n",
    "num_heads = 32\n",
    "\n",
    "val_idxs = val_set_idxs\n",
    "probes, all_head_accs_np = train_probes(seed, train_set_idxs, val_idxs, separated_activations, separated_labels, num_layers=num_layers, num_heads=num_heads)"
   ]
  },
  {
   "cell_type": "code",
   "execution_count": 160,
   "metadata": {},
   "outputs": [],
   "source": [
    "#all_head_accs_np.reshape(32,32)#.shape"
   ]
  },
  {
   "cell_type": "code",
   "execution_count": null,
   "metadata": {},
   "outputs": [],
   "source": []
  },
  {
   "cell_type": "code",
   "execution_count": 186,
   "metadata": {},
   "outputs": [
    {
     "data": {
      "image/png": "[encoded data removed]",
      "text/plain": [
       "<Figure size 800x800 with 2 Axes>"
      ]
     },
     "metadata": {},
     "output_type": "display_data"
    }
   ],
   "source": [
    "import matplotlib.pyplot as plt\n",
    "import numpy as np\n",
    "\n",
    "# Assuming 'data' is your 32x32 dataset\n",
    "# Replace this with your actual data matrix\n",
    "data = all_head_accs_np.reshape(32,32) # np.random.rand(32, 32)  # Example data\n",
    "\n",
    "plt.figure(figsize=(8, 8))\n",
    "plt.imshow(data, cmap='viridis', interpolation='nearest')\n",
    "plt.colorbar(label='Density')\n",
    "\n",
    "plt.title('Density Square Plot')\n",
    "plt.xlabel('Column Index')\n",
    "plt.ylabel('Row Index')\n",
    "\n",
    "plt.show()"
   ]
  },
  {
   "cell_type": "code",
   "execution_count": 148,
   "metadata": {},
   "outputs": [
    {
     "data": {
      "text/plain": [
       "17"
      ]
     },
     "execution_count": 148,
     "metadata": {},
     "output_type": "execute_result"
    }
   ],
   "source": [
    "len(train_idxs)"
   ]
  },
  {
   "cell_type": "code",
   "execution_count": 145,
   "metadata": {},
   "outputs": [
    {
     "name": "stdout",
     "output_type": "stream",
     "text": [
      "0.5\n"
     ]
    },
    {
     "data": {
      "text/plain": [
       "8"
      ]
     },
     "execution_count": 145,
     "metadata": {},
     "output_type": "execute_result"
    }
   ],
   "source": [
    "print(args.val_ratio)\n",
    "int(len(train_idxs)*(1-args.val_ratio))"
   ]
  },
  {
   "cell_type": "code",
   "execution_count": 150,
   "metadata": {},
   "outputs": [],
   "source": [
    "#indexes = index_dic.values()\n",
    "#list(indexes)"
   ]
  },
  {
   "cell_type": "code",
   "execution_count": 55,
   "metadata": {},
   "outputs": [],
   "source": [
    "#train_set_idxs"
   ]
  },
  {
   "cell_type": "code",
   "execution_count": 56,
   "metadata": {},
   "outputs": [],
   "source": [
    "#val_set_idxs"
   ]
  },
  {
   "cell_type": "code",
   "execution_count": 54,
   "metadata": {},
   "outputs": [],
   "source": [
    "#train_idxs"
   ]
  },
  {
   "cell_type": "code",
   "execution_count": 45,
   "metadata": {},
   "outputs": [
    {
     "data": {
      "text/plain": [
       "array([ 0,  1,  2,  3,  4,  5,  6,  7,  8,  9, 10, 11, 12, 13, 14, 15, 16,\n",
       "       17, 18, 19, 20, 21, 22, 23, 24, 25, 26, 27, 28, 29, 30, 31, 32, 33,\n",
       "       34, 35, 36, 37, 38, 39, 40, 41, 42, 43, 44, 45, 46, 47, 48, 49, 50,\n",
       "       51, 52, 53, 54, 55, 56, 57, 58, 59, 60, 61, 62, 63, 64, 65, 66, 67,\n",
       "       68, 69, 70, 71, 72, 73, 74, 75, 76, 77, 78, 79, 80])"
      ]
     },
     "execution_count": 45,
     "metadata": {},
     "output_type": "execute_result"
    }
   ],
   "source": [
    "import numpy as np\n",
    "train_idxs = np.arange(len(df))\n",
    "\n",
    "train_idxs"
   ]
  }
 ],
 "metadata": {
  "kernelspec": {
   "display_name": "iti",
   "language": "python",
   "name": "python3"
  },
  "language_info": {
   "codemirror_mode": {
    "name": "ipython",
    "version": 3
   },
   "file_extension": ".py",
   "mimetype": "text/x-python",
   "name": "python",
   "nbconvert_exporter": "python",
   "pygments_lexer": "ipython3",
   "version": "3.9.18"
  }
 },
 "nbformat": 4,
 "nbformat_minor": 2
}
